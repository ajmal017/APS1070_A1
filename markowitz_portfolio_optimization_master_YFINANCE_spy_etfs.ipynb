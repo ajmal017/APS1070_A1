{
  "nbformat": 4,
  "nbformat_minor": 0,
  "metadata": {
    "colab": {
      "name": "markowitz-portfolio-optimization-master.YFINANCE.ipynb",
      "provenance": [],
      "authorship_tag": "ABX9TyOPzN7Q+Iwo76vyHOBSZNOD",
      "include_colab_link": true
    },
    "kernelspec": {
      "name": "python3",
      "display_name": "Python 3"
    }
  },
  "cells": [
    {
      "cell_type": "markdown",
      "metadata": {
        "id": "view-in-github",
        "colab_type": "text"
      },
      "source": [
        "<a href=\"https://colab.research.google.com/github/armandordorica/APS1070_A1/blob/master/markowitz_portfolio_optimization_master_YFINANCE_spy_etfs.ipynb\" target=\"_parent\"><img src=\"https://colab.research.google.com/assets/colab-badge.svg\" alt=\"Open In Colab\"/></a>"
      ]
    },
    {
      "cell_type": "code",
      "metadata": {
        "id": "8w2gxEn9IXQ3",
        "colab_type": "code",
        "colab": {
          "base_uri": "https://localhost:8080/",
          "height": 33
        },
        "outputId": "39117c9c-edc9-43b5-89ad-c95f711c2463"
      },
      "source": [
        "from google.colab import drive\n",
        "drive.mount('/content/drive')"
      ],
      "execution_count": 280,
      "outputs": [
        {
          "output_type": "stream",
          "text": [
            "Drive already mounted at /content/drive; to attempt to forcibly remount, call drive.mount(\"/content/drive\", force_remount=True).\n"
          ],
          "name": "stdout"
        }
      ]
    },
    {
      "cell_type": "code",
      "metadata": {
        "id": "iDkoCDMV1AO3",
        "colab_type": "code",
        "colab": {
          "base_uri": "https://localhost:8080/",
          "height": 35
        },
        "outputId": "43cb8b5b-e8f5-4054-a1fb-2a6c0de0dabb"
      },
      "source": [
        "pwd"
      ],
      "execution_count": 285,
      "outputs": [
        {
          "output_type": "execute_result",
          "data": {
            "application/vnd.google.colaboratory.intrinsic": {
              "type": "string"
            },
            "text/plain": [
              "'/content/drive/My Drive/u of t/APS 1051 Portfolio Optimization/Jupyter Notebooks/markowitz-portfolio-optimization-master.YFINANCE'"
            ]
          },
          "metadata": {
            "tags": []
          },
          "execution_count": 285
        }
      ]
    },
    {
      "cell_type": "code",
      "metadata": {
        "id": "FNP2zuzfSiEp",
        "colab_type": "code",
        "colab": {
          "base_uri": "https://localhost:8080/",
          "height": 50
        },
        "outputId": "10af3930-1d12-49ff-8e48-c6b2eb0764c5"
      },
      "source": [
        "cd drive/My\\ Drive/u\\ of\\ t/APS\\ 1051\\ Portfolio\\ Optimization/Jupyter\\ Notebooks/markowitz-portfolio-optimization-master.YFINANCE/"
      ],
      "execution_count": 281,
      "outputs": [
        {
          "output_type": "stream",
          "text": [
            "[Errno 2] No such file or directory: 'drive/My Drive/u of t/APS 1051 Portfolio Optimization/Jupyter Notebooks/markowitz-portfolio-optimization-master.YFINANCE/'\n",
            "/content/drive/My Drive/u of t/APS 1051 Portfolio Optimization/Jupyter Notebooks/markowitz-portfolio-optimization-master.YFINANCE\n"
          ],
          "name": "stdout"
        }
      ]
    },
    {
      "cell_type": "code",
      "metadata": {
        "id": "5P3_hushSmTx",
        "colab_type": "code",
        "colab": {
          "base_uri": "https://localhost:8080/",
          "height": 82
        },
        "outputId": "ce6bc421-fc66-4202-bebc-54dfc3749b14"
      },
      "source": [
        "ls"
      ],
      "execution_count": 282,
      "outputs": [
        {
          "output_type": "stream",
          "text": [
            " \u001b[0m\u001b[01;34mfigures\u001b[0m/               markowitz_mod.pyc         README.md\n",
            " LICENSE                posdef.py                 Report.pdf\n",
            " main_mod_RUN_THIS.py   \u001b[01;34m__pycache__\u001b[0m/              StockPrices.csv\n",
            " markowitz_mod.py       README_INSTRUCTIONS.txt  \u001b[01;34m'toy problem'\u001b[0m/\n"
          ],
          "name": "stdout"
        }
      ]
    },
    {
      "cell_type": "code",
      "metadata": {
        "id": "Zjz_cVD8Q_5i",
        "colab_type": "code",
        "colab": {
          "base_uri": "https://localhost:8080/",
          "height": 212
        },
        "outputId": "f93ea80c-d40f-4026-f268-eb4800f61637"
      },
      "source": [
        "!pip install yfinance"
      ],
      "execution_count": 283,
      "outputs": [
        {
          "output_type": "stream",
          "text": [
            "Requirement already satisfied: yfinance in /usr/local/lib/python3.6/dist-packages (0.1.54)\n",
            "Requirement already satisfied: numpy>=1.15 in /usr/local/lib/python3.6/dist-packages (from yfinance) (1.18.5)\n",
            "Requirement already satisfied: requests>=2.20 in /usr/local/lib/python3.6/dist-packages (from yfinance) (2.23.0)\n",
            "Requirement already satisfied: pandas>=0.24 in /usr/local/lib/python3.6/dist-packages (from yfinance) (1.0.5)\n",
            "Requirement already satisfied: multitasking>=0.0.7 in /usr/local/lib/python3.6/dist-packages (from yfinance) (0.0.9)\n",
            "Requirement already satisfied: urllib3!=1.25.0,!=1.25.1,<1.26,>=1.21.1 in /usr/local/lib/python3.6/dist-packages (from requests>=2.20->yfinance) (1.24.3)\n",
            "Requirement already satisfied: chardet<4,>=3.0.2 in /usr/local/lib/python3.6/dist-packages (from requests>=2.20->yfinance) (3.0.4)\n",
            "Requirement already satisfied: certifi>=2017.4.17 in /usr/local/lib/python3.6/dist-packages (from requests>=2.20->yfinance) (2020.6.20)\n",
            "Requirement already satisfied: idna<3,>=2.5 in /usr/local/lib/python3.6/dist-packages (from requests>=2.20->yfinance) (2.9)\n",
            "Requirement already satisfied: pytz>=2017.2 in /usr/local/lib/python3.6/dist-packages (from pandas>=0.24->yfinance) (2018.9)\n",
            "Requirement already satisfied: python-dateutil>=2.6.1 in /usr/local/lib/python3.6/dist-packages (from pandas>=0.24->yfinance) (2.8.1)\n",
            "Requirement already satisfied: six>=1.5 in /usr/local/lib/python3.6/dist-packages (from python-dateutil>=2.6.1->pandas>=0.24->yfinance) (1.12.0)\n"
          ],
          "name": "stdout"
        }
      ]
    },
    {
      "cell_type": "code",
      "metadata": {
        "id": "6auV6ogKRQD_",
        "colab_type": "code",
        "colab": {
          "base_uri": "https://localhost:8080/",
          "height": 163
        },
        "outputId": "28195c53-7996-4af4-84c7-ddeb70475077"
      },
      "source": [
        "!pip install cvxpy"
      ],
      "execution_count": 284,
      "outputs": [
        {
          "output_type": "stream",
          "text": [
            "Requirement already satisfied: cvxpy in /usr/local/lib/python3.6/dist-packages (1.0.31)\n",
            "Requirement already satisfied: multiprocess in /usr/local/lib/python3.6/dist-packages (from cvxpy) (0.70.10)\n",
            "Requirement already satisfied: scipy>=1.1.0 in /usr/local/lib/python3.6/dist-packages (from cvxpy) (1.4.1)\n",
            "Requirement already satisfied: scs>=1.1.3 in /usr/local/lib/python3.6/dist-packages (from cvxpy) (2.1.2)\n",
            "Requirement already satisfied: osqp>=0.4.1 in /usr/local/lib/python3.6/dist-packages (from cvxpy) (0.6.1)\n",
            "Requirement already satisfied: numpy>=1.15 in /usr/local/lib/python3.6/dist-packages (from cvxpy) (1.18.5)\n",
            "Requirement already satisfied: ecos>=2 in /usr/local/lib/python3.6/dist-packages (from cvxpy) (2.0.7.post1)\n",
            "Requirement already satisfied: dill>=0.3.2 in /usr/local/lib/python3.6/dist-packages (from multiprocess->cvxpy) (0.3.2)\n",
            "Requirement already satisfied: future in /usr/local/lib/python3.6/dist-packages (from osqp>=0.4.1->cvxpy) (0.16.0)\n"
          ],
          "name": "stdout"
        }
      ]
    },
    {
      "cell_type": "code",
      "metadata": {
        "id": "p_nbepFzRTOH",
        "colab_type": "code",
        "colab": {
          "base_uri": "https://localhost:8080/",
          "height": 163
        },
        "outputId": "f920f9c9-69e9-419a-f7b4-f0a252f55fb6"
      },
      "source": [
        "#this program runs in Python 3.7\n",
        "#markowitz portfolio, optimized by minimizing variance while stipulating a given return\n",
        "#written by Chaitanya Joshi, modified by Loren Trigo\n",
        "\n",
        "import pandas as pd\n",
        "import numpy as np\n",
        "from pandas import Series, DataFrame\n",
        "from datetime import datetime\n",
        "import matplotlib.pyplot as plt\n",
        "from markowitz_mod import MarkowitzOpt\n",
        "\n",
        "\"\"\"\n",
        "StockList = ['AAPL','IBM','MSFT','GOOG','QCOM']\t\t# Stock ticker names\n",
        "# Read stock prices data\n",
        "price = pd.read_csv('StockPrices.csv')\n",
        "price.index = [datetime.strptime(x,'%Y-%m-%d') for x in price['Date']]\n",
        "#better: price.index=pd.to_datetime(price[\"Date\"])\n",
        "price = price.drop('Date',1)\n",
        "\"\"\"\n",
        "#need to install:\n",
        "#<py35>conda install -c anaconda pandas-datareader\n",
        "#<py35>pip install yfinance\n",
        "#Get the data from yahoo\n",
        "pd.core.common.is_list_like = pd.api.types.is_list_like #datareader problem probably fixed in next version of datareader\n",
        "from pandas_datareader import data as pdr\n",
        "import datetime as dt\n",
        "import yfinance as yf\n",
        "\n",
        "yf.pdr_override() # <== that's all it takes :-)\n",
        "\n",
        "start, end = dt.datetime(2009, 1, 30), dt.datetime(2020, 1, 30)\n",
        "# StockList= [\"FDN\",\"IBB\",\"IEZ\",\"IGV\",\"IHE\",\"IHF\",\"IHI\",\"ITA\",\"ITB\",\"IYJ\",\"IYT\",\"IYW\",\"IYZ\",\"KBE\",\"KCE\",\"KIE\",\"PBJ\",\"PBS\",\"SMH\",\"VNQ\",\"TLT\"]\n",
        "\n",
        "StockList= [\"XLB\",\"XLE\", \"XLF\", \"XLI\", \"XLK\", \"XLP\", \"XLU\", \"XLV\", \"XLY\"]\n",
        "\n",
        "# StockList = [\"XLB\",\"XLE\", \"XLF\", \"XLI\", \"XLK\", \"XLP\", \"XLU\", \"XLV\", \"XLY\", \"XTR\"]\n",
        "\n",
        "\n",
        "price = pd.DataFrame()\n",
        "for ticker in StockList:\n",
        "    price[ticker]  = pdr.get_data_yahoo(ticker, start=start, end=end).loc[:,'Adj Close']\n"
      ],
      "execution_count": 412,
      "outputs": [
        {
          "output_type": "stream",
          "text": [
            "[*********************100%***********************]  1 of 1 completed\n",
            "[*********************100%***********************]  1 of 1 completed\n",
            "[*********************100%***********************]  1 of 1 completed\n",
            "[*********************100%***********************]  1 of 1 completed\n",
            "[*********************100%***********************]  1 of 1 completed\n",
            "[*********************100%***********************]  1 of 1 completed\n",
            "[*********************100%***********************]  1 of 1 completed\n",
            "[*********************100%***********************]  1 of 1 completed\n",
            "[*********************100%***********************]  1 of 1 completed\n"
          ],
          "name": "stdout"
        }
      ]
    },
    {
      "cell_type": "markdown",
      "metadata": {
        "id": "6HGKiim3bELf",
        "colab_type": "text"
      },
      "source": [
        "**`interest_rate` determines the risk-free interest rate and `min_return` is the minimum desired return.**\n",
        "\n",
        "This program works well for values between 0.02 and 0.08 for minimum required return. Outside that interval, the results may be strange.\n",
        "In any case, the return of the portfolio will be higher, sometimes quite a bit higher than the required return.\n",
        "You should try various thresholds to see the results.\n",
        "\n",
        "* `lookback` is the sampling period of the returns. "
      ]
    },
    {
      "cell_type": "markdown",
      "metadata": {
        "id": "rJ_vLVucva__",
        "colab_type": "text"
      },
      "source": [
        "* XLB: Materials Select Sector SPDR Fund \n",
        "* XLE: Energy Select Sector SPDR Fund\n",
        "* XLF: Financial Select Sector SPDR\n",
        "* XLI: Industrial Select Sector SPDR Fund\n",
        "* XLK: Technology Sector\n",
        "* XLP: Consumer Staples Select Sector SPDR Fund\n",
        "* XLU: Utilities Select Sector SPDR Fund\n",
        "* XLV: Health Care Select Sector SPDR Fund\n",
        "* XLY: Consumer Discretionary Select Sector SPDR Fund"
      ]
    },
    {
      "cell_type": "code",
      "metadata": {
        "id": "-KREo6gQorex",
        "colab_type": "code",
        "colab": {
          "base_uri": "https://localhost:8080/",
          "height": 578
        },
        "outputId": "501516b0-1415-455d-b346-45992d0d0832"
      },
      "source": [
        "from matplotlib.pyplot import figure\n",
        "price.plot(figsize=(10,10))"
      ],
      "execution_count": 413,
      "outputs": [
        {
          "output_type": "execute_result",
          "data": {
            "text/plain": [
              "<matplotlib.axes._subplots.AxesSubplot at 0x7efddc9b92b0>"
            ]
          },
          "metadata": {
            "tags": []
          },
          "execution_count": 413
        },
        {
          "output_type": "display_data",
          "data": {
            "image/png": "[encoded data removed]",
            "text/plain": [
              "<Figure size 720x720 with 1 Axes>"
            ]
          },
          "metadata": {
            "tags": [],
            "needs_background": "light"
          }
        }
      ]
    },
    {
      "cell_type": "code",
      "metadata": {
        "id": "a9OvNt_0oBRy",
        "colab_type": "code",
        "colab": {
          "base_uri": "https://localhost:8080/",
          "height": 420
        },
        "outputId": "28f20475-39a0-4857-ae3f-79ba4f1b152e"
      },
      "source": [
        "price"
      ],
      "execution_count": 414,
      "outputs": [
        {
          "output_type": "execute_result",
          "data": {
            "text/html": [
              "<div>\n",
              "<style scoped>\n",
              "    .dataframe tbody tr th:only-of-type {\n",
              "        vertical-align: middle;\n",
              "    }\n",
              "\n",
              "    .dataframe tbody tr th {\n",
              "        vertical-align: top;\n",
              "    }\n",
              "\n",
              "    .dataframe thead th {\n",
              "        text-align: right;\n",
              "    }\n",
              "</style>\n",
              "<table border=\"1\" class=\"dataframe\">\n",
              "  <thead>\n",
              "    <tr style=\"text-align: right;\">\n",
              "      <th></th>\n",
              "      <th>XLB</th>\n",
              "      <th>XLE</th>\n",
              "      <th>XLF</th>\n",
              "      <th>XLI</th>\n",
              "      <th>XLK</th>\n",
              "      <th>XLP</th>\n",
              "      <th>XLU</th>\n",
              "      <th>XLV</th>\n",
              "      <th>XLY</th>\n",
              "    </tr>\n",
              "    <tr>\n",
              "      <th>Date</th>\n",
              "      <th></th>\n",
              "      <th></th>\n",
              "      <th></th>\n",
              "      <th></th>\n",
              "      <th></th>\n",
              "      <th></th>\n",
              "      <th></th>\n",
              "      <th></th>\n",
              "      <th></th>\n",
              "    </tr>\n",
              "  </thead>\n",
              "  <tbody>\n",
              "    <tr>\n",
              "      <th>2009-01-30</th>\n",
              "      <td>16.319809</td>\n",
              "      <td>33.823433</td>\n",
              "      <td>4.684322</td>\n",
              "      <td>16.156635</td>\n",
              "      <td>12.169240</td>\n",
              "      <td>16.173187</td>\n",
              "      <td>18.907013</td>\n",
              "      <td>21.366619</td>\n",
              "      <td>16.268377</td>\n",
              "    </tr>\n",
              "    <tr>\n",
              "      <th>2009-02-02</th>\n",
              "      <td>16.087332</td>\n",
              "      <td>33.282772</td>\n",
              "      <td>4.684322</td>\n",
              "      <td>15.788186</td>\n",
              "      <td>12.359901</td>\n",
              "      <td>16.034464</td>\n",
              "      <td>19.011400</td>\n",
              "      <td>21.505096</td>\n",
              "      <td>16.116497</td>\n",
              "    </tr>\n",
              "    <tr>\n",
              "      <th>2009-02-03</th>\n",
              "      <td>16.397305</td>\n",
              "      <td>33.859470</td>\n",
              "      <td>4.598137</td>\n",
              "      <td>16.078238</td>\n",
              "      <td>12.608595</td>\n",
              "      <td>16.384935</td>\n",
              "      <td>19.096220</td>\n",
              "      <td>22.059015</td>\n",
              "      <td>16.572145</td>\n",
              "    </tr>\n",
              "    <tr>\n",
              "      <th>2009-02-04</th>\n",
              "      <td>16.598780</td>\n",
              "      <td>34.176662</td>\n",
              "      <td>4.547442</td>\n",
              "      <td>15.992006</td>\n",
              "      <td>12.600306</td>\n",
              "      <td>15.939534</td>\n",
              "      <td>19.239746</td>\n",
              "      <td>21.961267</td>\n",
              "      <td>16.209305</td>\n",
              "    </tr>\n",
              "    <tr>\n",
              "      <th>2009-02-05</th>\n",
              "      <td>17.040491</td>\n",
              "      <td>35.012878</td>\n",
              "      <td>4.618417</td>\n",
              "      <td>16.180151</td>\n",
              "      <td>12.799254</td>\n",
              "      <td>16.165890</td>\n",
              "      <td>19.376759</td>\n",
              "      <td>22.148624</td>\n",
              "      <td>16.513077</td>\n",
              "    </tr>\n",
              "    <tr>\n",
              "      <th>...</th>\n",
              "      <td>...</td>\n",
              "      <td>...</td>\n",
              "      <td>...</td>\n",
              "      <td>...</td>\n",
              "      <td>...</td>\n",
              "      <td>...</td>\n",
              "      <td>...</td>\n",
              "      <td>...</td>\n",
              "      <td>...</td>\n",
              "    </tr>\n",
              "    <tr>\n",
              "      <th>2020-01-23</th>\n",
              "      <td>59.444023</td>\n",
              "      <td>55.316952</td>\n",
              "      <td>30.327732</td>\n",
              "      <td>82.925148</td>\n",
              "      <td>97.113853</td>\n",
              "      <td>63.173100</td>\n",
              "      <td>66.945274</td>\n",
              "      <td>103.259285</td>\n",
              "      <td>126.817863</td>\n",
              "    </tr>\n",
              "    <tr>\n",
              "      <th>2020-01-24</th>\n",
              "      <td>59.019211</td>\n",
              "      <td>54.679569</td>\n",
              "      <td>29.943462</td>\n",
              "      <td>82.539864</td>\n",
              "      <td>96.657501</td>\n",
              "      <td>62.738991</td>\n",
              "      <td>67.122017</td>\n",
              "      <td>101.534996</td>\n",
              "      <td>125.050568</td>\n",
              "    </tr>\n",
              "    <tr>\n",
              "      <th>2020-01-27</th>\n",
              "      <td>57.744774</td>\n",
              "      <td>53.163376</td>\n",
              "      <td>29.480368</td>\n",
              "      <td>80.978966</td>\n",
              "      <td>94.355896</td>\n",
              "      <td>62.541668</td>\n",
              "      <td>66.955093</td>\n",
              "      <td>100.762039</td>\n",
              "      <td>123.183998</td>\n",
              "    </tr>\n",
              "    <tr>\n",
              "      <th>2020-01-28</th>\n",
              "      <td>58.396812</td>\n",
              "      <td>53.404812</td>\n",
              "      <td>29.825226</td>\n",
              "      <td>81.502548</td>\n",
              "      <td>96.161469</td>\n",
              "      <td>62.620598</td>\n",
              "      <td>67.230026</td>\n",
              "      <td>101.257530</td>\n",
              "      <td>124.385353</td>\n",
              "    </tr>\n",
              "    <tr>\n",
              "      <th>2020-01-29</th>\n",
              "      <td>58.584518</td>\n",
              "      <td>52.844692</td>\n",
              "      <td>29.775959</td>\n",
              "      <td>81.937233</td>\n",
              "      <td>96.409485</td>\n",
              "      <td>62.304882</td>\n",
              "      <td>67.406761</td>\n",
              "      <td>100.980057</td>\n",
              "      <td>124.315857</td>\n",
              "    </tr>\n",
              "  </tbody>\n",
              "</table>\n",
              "<p>2768 rows × 9 columns</p>\n",
              "</div>"
            ],
            "text/plain": [
              "                  XLB        XLE        XLF  ...        XLU         XLV         XLY\n",
              "Date                                         ...                                   \n",
              "2009-01-30  16.319809  33.823433   4.684322  ...  18.907013   21.366619   16.268377\n",
              "2009-02-02  16.087332  33.282772   4.684322  ...  19.011400   21.505096   16.116497\n",
              "2009-02-03  16.397305  33.859470   4.598137  ...  19.096220   22.059015   16.572145\n",
              "2009-02-04  16.598780  34.176662   4.547442  ...  19.239746   21.961267   16.209305\n",
              "2009-02-05  17.040491  35.012878   4.618417  ...  19.376759   22.148624   16.513077\n",
              "...               ...        ...        ...  ...        ...         ...         ...\n",
              "2020-01-23  59.444023  55.316952  30.327732  ...  66.945274  103.259285  126.817863\n",
              "2020-01-24  59.019211  54.679569  29.943462  ...  67.122017  101.534996  125.050568\n",
              "2020-01-27  57.744774  53.163376  29.480368  ...  66.955093  100.762039  123.183998\n",
              "2020-01-28  58.396812  53.404812  29.825226  ...  67.230026  101.257530  124.385353\n",
              "2020-01-29  58.584518  52.844692  29.775959  ...  67.406761  100.980057  124.315857\n",
              "\n",
              "[2768 rows x 9 columns]"
            ]
          },
          "metadata": {
            "tags": []
          },
          "execution_count": 414
        }
      ]
    },
    {
      "cell_type": "code",
      "metadata": {
        "id": "AZPTf2DMoQBP",
        "colab_type": "code",
        "colab": {}
      },
      "source": [
        "\n",
        "interest_rate = 0.02/12\t# Fixed interest rate\n",
        "min_return = 0.08\t\t# Minimum desired return\n",
        "# Specify number of days to shift\n",
        "shift = 60 #shift the holding period as well as the returns period\n",
        "lookback = 60"
      ],
      "execution_count": 415,
      "outputs": []
    },
    {
      "cell_type": "code",
      "metadata": {
        "id": "ZZ1fK5ZroSBw",
        "colab_type": "code",
        "colab": {}
      },
      "source": [
        "# Compute returns over the time period specified by shift\n",
        "shift_returns = price/price.shift(shift) - 1\n",
        "\n",
        "# Specify filter \"length\"\n",
        "filter_len = lookback\n",
        "# Compute mean and variance\n",
        "shift_returns_mean = shift_returns.ewm(span=filter_len).mean()\n",
        "shift_returns_var = shift_returns.ewm(span=filter_len).var()\n",
        "# Compute covariances\n",
        "NumStocks = len(StockList)\n",
        "covariance = pd.DataFrame()\n"
      ],
      "execution_count": 416,
      "outputs": []
    },
    {
      "cell_type": "code",
      "metadata": {
        "id": "uW0nPFU6oa6R",
        "colab_type": "code",
        "colab": {
          "base_uri": "https://localhost:8080/",
          "height": 33
        },
        "outputId": "a7ab0484-720b-4838-9c6e-9bccc606ce39"
      },
      "source": [
        "NumStocks"
      ],
      "execution_count": 417,
      "outputs": [
        {
          "output_type": "execute_result",
          "data": {
            "text/plain": [
              "9"
            ]
          },
          "metadata": {
            "tags": []
          },
          "execution_count": 417
        }
      ]
    },
    {
      "cell_type": "code",
      "metadata": {
        "id": "ZAKWd6gxoWjx",
        "colab_type": "code",
        "colab": {}
      },
      "source": [
        "for FirstStock in np.arange(NumStocks-1):\n",
        "    for SecondStock in np.arange(FirstStock+1,NumStocks):\n",
        "        ColumnTitle = StockList[FirstStock] + '-' + StockList[SecondStock]\n",
        "        covariance[ColumnTitle] = shift_returns[StockList[FirstStock]].ewm(span=filter_len).cov(shift_returns[StockList[SecondStock]].ewm(span=filter_len))"
      ],
      "execution_count": 418,
      "outputs": []
    },
    {
      "cell_type": "code",
      "metadata": {
        "id": "VljoruTwozP5",
        "colab_type": "code",
        "colab": {
          "base_uri": "https://localhost:8080/",
          "height": 50
        },
        "outputId": "7315204a-59a4-4591-c39d-a323fb55819a"
      },
      "source": [
        "# Variable Initialization\n",
        "start_date = '2009-06-01'\n",
        "index = shift_returns.index\n",
        "start_index = index.get_loc(start_date)\n",
        "end_date = index[-1]\n",
        "end_index = index.get_loc(end_date)\n",
        "date_index_iter = start_index\n",
        "\n",
        "StockList.append('InterestRate')\n",
        "distribution = DataFrame(index=StockList)\n",
        "returns = Series(index=index)\n",
        "# Start Value\n",
        "total_value = 1.0\n",
        "returns[index[date_index_iter]] = total_value"
      ],
      "execution_count": 419,
      "outputs": [
        {
          "output_type": "stream",
          "text": [
            "/usr/local/lib/python3.6/dist-packages/ipykernel_launcher.py:11: DeprecationWarning: The default dtype for empty Series will be 'object' instead of 'float64' in a future version. Specify a dtype explicitly to silence this warning.\n",
            "  # This is added back by InteractiveShellApp.init_path()\n"
          ],
          "name": "stderr"
        }
      ]
    },
    {
      "cell_type": "code",
      "metadata": {
        "id": "jHvUm0Tao5yn",
        "colab_type": "code",
        "colab": {
          "base_uri": "https://localhost:8080/",
          "height": 602
        },
        "outputId": "b046e7c2-7858-4149-81e7-e76bff50e7ef"
      },
      "source": [
        "covariance"
      ],
      "execution_count": 420,
      "outputs": [
        {
          "output_type": "execute_result",
          "data": {
            "text/html": [
              "<div>\n",
              "<style scoped>\n",
              "    .dataframe tbody tr th:only-of-type {\n",
              "        vertical-align: middle;\n",
              "    }\n",
              "\n",
              "    .dataframe tbody tr th {\n",
              "        vertical-align: top;\n",
              "    }\n",
              "\n",
              "    .dataframe thead th {\n",
              "        text-align: right;\n",
              "    }\n",
              "</style>\n",
              "<table border=\"1\" class=\"dataframe\">\n",
              "  <thead>\n",
              "    <tr style=\"text-align: right;\">\n",
              "      <th></th>\n",
              "      <th>XLB-XLE</th>\n",
              "      <th>XLB-XLF</th>\n",
              "      <th>XLB-XLI</th>\n",
              "      <th>XLB-XLK</th>\n",
              "      <th>XLB-XLP</th>\n",
              "      <th>XLB-XLU</th>\n",
              "      <th>XLB-XLV</th>\n",
              "      <th>XLB-XLY</th>\n",
              "      <th>XLE-XLF</th>\n",
              "      <th>XLE-XLI</th>\n",
              "      <th>XLE-XLK</th>\n",
              "      <th>XLE-XLP</th>\n",
              "      <th>XLE-XLU</th>\n",
              "      <th>XLE-XLV</th>\n",
              "      <th>XLE-XLY</th>\n",
              "      <th>XLF-XLI</th>\n",
              "      <th>XLF-XLK</th>\n",
              "      <th>XLF-XLP</th>\n",
              "      <th>XLF-XLU</th>\n",
              "      <th>XLF-XLV</th>\n",
              "      <th>XLF-XLY</th>\n",
              "      <th>XLI-XLK</th>\n",
              "      <th>XLI-XLP</th>\n",
              "      <th>XLI-XLU</th>\n",
              "      <th>XLI-XLV</th>\n",
              "      <th>XLI-XLY</th>\n",
              "      <th>XLK-XLP</th>\n",
              "      <th>XLK-XLU</th>\n",
              "      <th>XLK-XLV</th>\n",
              "      <th>XLK-XLY</th>\n",
              "      <th>XLP-XLU</th>\n",
              "      <th>XLP-XLV</th>\n",
              "      <th>XLP-XLY</th>\n",
              "      <th>XLU-XLV</th>\n",
              "      <th>XLU-XLY</th>\n",
              "      <th>XLV-XLY</th>\n",
              "    </tr>\n",
              "    <tr>\n",
              "      <th>Date</th>\n",
              "      <th></th>\n",
              "      <th></th>\n",
              "      <th></th>\n",
              "      <th></th>\n",
              "      <th></th>\n",
              "      <th></th>\n",
              "      <th></th>\n",
              "      <th></th>\n",
              "      <th></th>\n",
              "      <th></th>\n",
              "      <th></th>\n",
              "      <th></th>\n",
              "      <th></th>\n",
              "      <th></th>\n",
              "      <th></th>\n",
              "      <th></th>\n",
              "      <th></th>\n",
              "      <th></th>\n",
              "      <th></th>\n",
              "      <th></th>\n",
              "      <th></th>\n",
              "      <th></th>\n",
              "      <th></th>\n",
              "      <th></th>\n",
              "      <th></th>\n",
              "      <th></th>\n",
              "      <th></th>\n",
              "      <th></th>\n",
              "      <th></th>\n",
              "      <th></th>\n",
              "      <th></th>\n",
              "      <th></th>\n",
              "      <th></th>\n",
              "      <th></th>\n",
              "      <th></th>\n",
              "      <th></th>\n",
              "    </tr>\n",
              "  </thead>\n",
              "  <tbody>\n",
              "    <tr>\n",
              "      <th>2009-01-30</th>\n",
              "      <td>NaN</td>\n",
              "      <td>NaN</td>\n",
              "      <td>NaN</td>\n",
              "      <td>NaN</td>\n",
              "      <td>NaN</td>\n",
              "      <td>NaN</td>\n",
              "      <td>NaN</td>\n",
              "      <td>NaN</td>\n",
              "      <td>NaN</td>\n",
              "      <td>NaN</td>\n",
              "      <td>NaN</td>\n",
              "      <td>NaN</td>\n",
              "      <td>NaN</td>\n",
              "      <td>NaN</td>\n",
              "      <td>NaN</td>\n",
              "      <td>NaN</td>\n",
              "      <td>NaN</td>\n",
              "      <td>NaN</td>\n",
              "      <td>NaN</td>\n",
              "      <td>NaN</td>\n",
              "      <td>NaN</td>\n",
              "      <td>NaN</td>\n",
              "      <td>NaN</td>\n",
              "      <td>NaN</td>\n",
              "      <td>NaN</td>\n",
              "      <td>NaN</td>\n",
              "      <td>NaN</td>\n",
              "      <td>NaN</td>\n",
              "      <td>NaN</td>\n",
              "      <td>NaN</td>\n",
              "      <td>NaN</td>\n",
              "      <td>NaN</td>\n",
              "      <td>NaN</td>\n",
              "      <td>NaN</td>\n",
              "      <td>NaN</td>\n",
              "      <td>NaN</td>\n",
              "    </tr>\n",
              "    <tr>\n",
              "      <th>2009-02-02</th>\n",
              "      <td>NaN</td>\n",
              "      <td>NaN</td>\n",
              "      <td>NaN</td>\n",
              "      <td>NaN</td>\n",
              "      <td>NaN</td>\n",
              "      <td>NaN</td>\n",
              "      <td>NaN</td>\n",
              "      <td>NaN</td>\n",
              "      <td>NaN</td>\n",
              "      <td>NaN</td>\n",
              "      <td>NaN</td>\n",
              "      <td>NaN</td>\n",
              "      <td>NaN</td>\n",
              "      <td>NaN</td>\n",
              "      <td>NaN</td>\n",
              "      <td>NaN</td>\n",
              "      <td>NaN</td>\n",
              "      <td>NaN</td>\n",
              "      <td>NaN</td>\n",
              "      <td>NaN</td>\n",
              "      <td>NaN</td>\n",
              "      <td>NaN</td>\n",
              "      <td>NaN</td>\n",
              "      <td>NaN</td>\n",
              "      <td>NaN</td>\n",
              "      <td>NaN</td>\n",
              "      <td>NaN</td>\n",
              "      <td>NaN</td>\n",
              "      <td>NaN</td>\n",
              "      <td>NaN</td>\n",
              "      <td>NaN</td>\n",
              "      <td>NaN</td>\n",
              "      <td>NaN</td>\n",
              "      <td>NaN</td>\n",
              "      <td>NaN</td>\n",
              "      <td>NaN</td>\n",
              "    </tr>\n",
              "    <tr>\n",
              "      <th>2009-02-03</th>\n",
              "      <td>NaN</td>\n",
              "      <td>NaN</td>\n",
              "      <td>NaN</td>\n",
              "      <td>NaN</td>\n",
              "      <td>NaN</td>\n",
              "      <td>NaN</td>\n",
              "      <td>NaN</td>\n",
              "      <td>NaN</td>\n",
              "      <td>NaN</td>\n",
              "      <td>NaN</td>\n",
              "      <td>NaN</td>\n",
              "      <td>NaN</td>\n",
              "      <td>NaN</td>\n",
              "      <td>NaN</td>\n",
              "      <td>NaN</td>\n",
              "      <td>NaN</td>\n",
              "      <td>NaN</td>\n",
              "      <td>NaN</td>\n",
              "      <td>NaN</td>\n",
              "      <td>NaN</td>\n",
              "      <td>NaN</td>\n",
              "      <td>NaN</td>\n",
              "      <td>NaN</td>\n",
              "      <td>NaN</td>\n",
              "      <td>NaN</td>\n",
              "      <td>NaN</td>\n",
              "      <td>NaN</td>\n",
              "      <td>NaN</td>\n",
              "      <td>NaN</td>\n",
              "      <td>NaN</td>\n",
              "      <td>NaN</td>\n",
              "      <td>NaN</td>\n",
              "      <td>NaN</td>\n",
              "      <td>NaN</td>\n",
              "      <td>NaN</td>\n",
              "      <td>NaN</td>\n",
              "    </tr>\n",
              "    <tr>\n",
              "      <th>2009-02-04</th>\n",
              "      <td>NaN</td>\n",
              "      <td>NaN</td>\n",
              "      <td>NaN</td>\n",
              "      <td>NaN</td>\n",
              "      <td>NaN</td>\n",
              "      <td>NaN</td>\n",
              "      <td>NaN</td>\n",
              "      <td>NaN</td>\n",
              "      <td>NaN</td>\n",
              "      <td>NaN</td>\n",
              "      <td>NaN</td>\n",
              "      <td>NaN</td>\n",
              "      <td>NaN</td>\n",
              "      <td>NaN</td>\n",
              "      <td>NaN</td>\n",
              "      <td>NaN</td>\n",
              "      <td>NaN</td>\n",
              "      <td>NaN</td>\n",
              "      <td>NaN</td>\n",
              "      <td>NaN</td>\n",
              "      <td>NaN</td>\n",
              "      <td>NaN</td>\n",
              "      <td>NaN</td>\n",
              "      <td>NaN</td>\n",
              "      <td>NaN</td>\n",
              "      <td>NaN</td>\n",
              "      <td>NaN</td>\n",
              "      <td>NaN</td>\n",
              "      <td>NaN</td>\n",
              "      <td>NaN</td>\n",
              "      <td>NaN</td>\n",
              "      <td>NaN</td>\n",
              "      <td>NaN</td>\n",
              "      <td>NaN</td>\n",
              "      <td>NaN</td>\n",
              "      <td>NaN</td>\n",
              "    </tr>\n",
              "    <tr>\n",
              "      <th>2009-02-05</th>\n",
              "      <td>NaN</td>\n",
              "      <td>NaN</td>\n",
              "      <td>NaN</td>\n",
              "      <td>NaN</td>\n",
              "      <td>NaN</td>\n",
              "      <td>NaN</td>\n",
              "      <td>NaN</td>\n",
              "      <td>NaN</td>\n",
              "      <td>NaN</td>\n",
              "      <td>NaN</td>\n",
              "      <td>NaN</td>\n",
              "      <td>NaN</td>\n",
              "      <td>NaN</td>\n",
              "      <td>NaN</td>\n",
              "      <td>NaN</td>\n",
              "      <td>NaN</td>\n",
              "      <td>NaN</td>\n",
              "      <td>NaN</td>\n",
              "      <td>NaN</td>\n",
              "      <td>NaN</td>\n",
              "      <td>NaN</td>\n",
              "      <td>NaN</td>\n",
              "      <td>NaN</td>\n",
              "      <td>NaN</td>\n",
              "      <td>NaN</td>\n",
              "      <td>NaN</td>\n",
              "      <td>NaN</td>\n",
              "      <td>NaN</td>\n",
              "      <td>NaN</td>\n",
              "      <td>NaN</td>\n",
              "      <td>NaN</td>\n",
              "      <td>NaN</td>\n",
              "      <td>NaN</td>\n",
              "      <td>NaN</td>\n",
              "      <td>NaN</td>\n",
              "      <td>NaN</td>\n",
              "    </tr>\n",
              "    <tr>\n",
              "      <th>...</th>\n",
              "      <td>...</td>\n",
              "      <td>...</td>\n",
              "      <td>...</td>\n",
              "      <td>...</td>\n",
              "      <td>...</td>\n",
              "      <td>...</td>\n",
              "      <td>...</td>\n",
              "      <td>...</td>\n",
              "      <td>...</td>\n",
              "      <td>...</td>\n",
              "      <td>...</td>\n",
              "      <td>...</td>\n",
              "      <td>...</td>\n",
              "      <td>...</td>\n",
              "      <td>...</td>\n",
              "      <td>...</td>\n",
              "      <td>...</td>\n",
              "      <td>...</td>\n",
              "      <td>...</td>\n",
              "      <td>...</td>\n",
              "      <td>...</td>\n",
              "      <td>...</td>\n",
              "      <td>...</td>\n",
              "      <td>...</td>\n",
              "      <td>...</td>\n",
              "      <td>...</td>\n",
              "      <td>...</td>\n",
              "      <td>...</td>\n",
              "      <td>...</td>\n",
              "      <td>...</td>\n",
              "      <td>...</td>\n",
              "      <td>...</td>\n",
              "      <td>...</td>\n",
              "      <td>...</td>\n",
              "      <td>...</td>\n",
              "      <td>...</td>\n",
              "    </tr>\n",
              "    <tr>\n",
              "      <th>2020-01-23</th>\n",
              "      <td>0.001338</td>\n",
              "      <td>0.001109</td>\n",
              "      <td>0.000946</td>\n",
              "      <td>0.001225</td>\n",
              "      <td>0.000089</td>\n",
              "      <td>-0.000385</td>\n",
              "      <td>0.001195</td>\n",
              "      <td>0.000559</td>\n",
              "      <td>0.002050</td>\n",
              "      <td>0.001848</td>\n",
              "      <td>0.002291</td>\n",
              "      <td>0.000133</td>\n",
              "      <td>-0.000632</td>\n",
              "      <td>0.002213</td>\n",
              "      <td>0.001101</td>\n",
              "      <td>0.001402</td>\n",
              "      <td>0.001622</td>\n",
              "      <td>0.000015</td>\n",
              "      <td>-0.000681</td>\n",
              "      <td>0.001745</td>\n",
              "      <td>0.000713</td>\n",
              "      <td>0.001560</td>\n",
              "      <td>0.000078</td>\n",
              "      <td>-0.000328</td>\n",
              "      <td>0.001356</td>\n",
              "      <td>0.000731</td>\n",
              "      <td>0.000445</td>\n",
              "      <td>-0.000298</td>\n",
              "      <td>0.002786</td>\n",
              "      <td>0.001208</td>\n",
              "      <td>0.000140</td>\n",
              "      <td>0.000263</td>\n",
              "      <td>0.000217</td>\n",
              "      <td>-0.000698</td>\n",
              "      <td>-0.000051</td>\n",
              "      <td>0.000933</td>\n",
              "    </tr>\n",
              "    <tr>\n",
              "      <th>2020-01-24</th>\n",
              "      <td>0.001323</td>\n",
              "      <td>0.001097</td>\n",
              "      <td>0.000918</td>\n",
              "      <td>0.001156</td>\n",
              "      <td>0.000077</td>\n",
              "      <td>-0.000419</td>\n",
              "      <td>0.001153</td>\n",
              "      <td>0.000536</td>\n",
              "      <td>0.002024</td>\n",
              "      <td>0.001791</td>\n",
              "      <td>0.002168</td>\n",
              "      <td>0.000114</td>\n",
              "      <td>-0.000689</td>\n",
              "      <td>0.002135</td>\n",
              "      <td>0.001059</td>\n",
              "      <td>0.001359</td>\n",
              "      <td>0.001529</td>\n",
              "      <td>0.000001</td>\n",
              "      <td>-0.000723</td>\n",
              "      <td>0.001683</td>\n",
              "      <td>0.000684</td>\n",
              "      <td>0.001505</td>\n",
              "      <td>0.000075</td>\n",
              "      <td>-0.000323</td>\n",
              "      <td>0.001311</td>\n",
              "      <td>0.000706</td>\n",
              "      <td>0.000445</td>\n",
              "      <td>-0.000212</td>\n",
              "      <td>0.002700</td>\n",
              "      <td>0.001174</td>\n",
              "      <td>0.000160</td>\n",
              "      <td>0.000257</td>\n",
              "      <td>0.000212</td>\n",
              "      <td>-0.000666</td>\n",
              "      <td>-0.000040</td>\n",
              "      <td>0.000904</td>\n",
              "    </tr>\n",
              "    <tr>\n",
              "      <th>2020-01-27</th>\n",
              "      <td>0.001393</td>\n",
              "      <td>0.001144</td>\n",
              "      <td>0.000931</td>\n",
              "      <td>0.001086</td>\n",
              "      <td>0.000060</td>\n",
              "      <td>-0.000497</td>\n",
              "      <td>0.001146</td>\n",
              "      <td>0.000527</td>\n",
              "      <td>0.002070</td>\n",
              "      <td>0.001792</td>\n",
              "      <td>0.002054</td>\n",
              "      <td>0.000091</td>\n",
              "      <td>-0.000792</td>\n",
              "      <td>0.002108</td>\n",
              "      <td>0.001035</td>\n",
              "      <td>0.001358</td>\n",
              "      <td>0.001447</td>\n",
              "      <td>-0.000013</td>\n",
              "      <td>-0.000791</td>\n",
              "      <td>0.001659</td>\n",
              "      <td>0.000670</td>\n",
              "      <td>0.001439</td>\n",
              "      <td>0.000065</td>\n",
              "      <td>-0.000361</td>\n",
              "      <td>0.001285</td>\n",
              "      <td>0.000688</td>\n",
              "      <td>0.000436</td>\n",
              "      <td>-0.000170</td>\n",
              "      <td>0.002600</td>\n",
              "      <td>0.001133</td>\n",
              "      <td>0.000170</td>\n",
              "      <td>0.000243</td>\n",
              "      <td>0.000204</td>\n",
              "      <td>-0.000679</td>\n",
              "      <td>-0.000047</td>\n",
              "      <td>0.000877</td>\n",
              "    </tr>\n",
              "    <tr>\n",
              "      <th>2020-01-28</th>\n",
              "      <td>0.001401</td>\n",
              "      <td>0.001151</td>\n",
              "      <td>0.000929</td>\n",
              "      <td>0.001008</td>\n",
              "      <td>0.000052</td>\n",
              "      <td>-0.000543</td>\n",
              "      <td>0.001133</td>\n",
              "      <td>0.000511</td>\n",
              "      <td>0.002051</td>\n",
              "      <td>0.001764</td>\n",
              "      <td>0.001940</td>\n",
              "      <td>0.000082</td>\n",
              "      <td>-0.000833</td>\n",
              "      <td>0.002065</td>\n",
              "      <td>0.001002</td>\n",
              "      <td>0.001340</td>\n",
              "      <td>0.001361</td>\n",
              "      <td>-0.000018</td>\n",
              "      <td>-0.000822</td>\n",
              "      <td>0.001627</td>\n",
              "      <td>0.000649</td>\n",
              "      <td>0.001367</td>\n",
              "      <td>0.000059</td>\n",
              "      <td>-0.000385</td>\n",
              "      <td>0.001257</td>\n",
              "      <td>0.000666</td>\n",
              "      <td>0.000427</td>\n",
              "      <td>-0.000111</td>\n",
              "      <td>0.002494</td>\n",
              "      <td>0.001095</td>\n",
              "      <td>0.000172</td>\n",
              "      <td>0.000232</td>\n",
              "      <td>0.000197</td>\n",
              "      <td>-0.000687</td>\n",
              "      <td>-0.000047</td>\n",
              "      <td>0.000849</td>\n",
              "    </tr>\n",
              "    <tr>\n",
              "      <th>2020-01-29</th>\n",
              "      <td>0.001389</td>\n",
              "      <td>0.001137</td>\n",
              "      <td>0.000903</td>\n",
              "      <td>0.000948</td>\n",
              "      <td>0.000050</td>\n",
              "      <td>-0.000558</td>\n",
              "      <td>0.001111</td>\n",
              "      <td>0.000491</td>\n",
              "      <td>0.002031</td>\n",
              "      <td>0.001714</td>\n",
              "      <td>0.001822</td>\n",
              "      <td>0.000078</td>\n",
              "      <td>-0.000873</td>\n",
              "      <td>0.002028</td>\n",
              "      <td>0.000964</td>\n",
              "      <td>0.001301</td>\n",
              "      <td>0.001280</td>\n",
              "      <td>-0.000018</td>\n",
              "      <td>-0.000840</td>\n",
              "      <td>0.001594</td>\n",
              "      <td>0.000624</td>\n",
              "      <td>0.001316</td>\n",
              "      <td>0.000057</td>\n",
              "      <td>-0.000380</td>\n",
              "      <td>0.001219</td>\n",
              "      <td>0.000643</td>\n",
              "      <td>0.000414</td>\n",
              "      <td>-0.000055</td>\n",
              "      <td>0.002388</td>\n",
              "      <td>0.001063</td>\n",
              "      <td>0.000168</td>\n",
              "      <td>0.000224</td>\n",
              "      <td>0.000191</td>\n",
              "      <td>-0.000694</td>\n",
              "      <td>-0.000040</td>\n",
              "      <td>0.000818</td>\n",
              "    </tr>\n",
              "  </tbody>\n",
              "</table>\n",
              "<p>2768 rows × 36 columns</p>\n",
              "</div>"
            ],
            "text/plain": [
              "             XLB-XLE   XLB-XLF   XLB-XLI  ...   XLU-XLV   XLU-XLY   XLV-XLY\n",
              "Date                                      ...                              \n",
              "2009-01-30       NaN       NaN       NaN  ...       NaN       NaN       NaN\n",
              "2009-02-02       NaN       NaN       NaN  ...       NaN       NaN       NaN\n",
              "2009-02-03       NaN       NaN       NaN  ...       NaN       NaN       NaN\n",
              "2009-02-04       NaN       NaN       NaN  ...       NaN       NaN       NaN\n",
              "2009-02-05       NaN       NaN       NaN  ...       NaN       NaN       NaN\n",
              "...              ...       ...       ...  ...       ...       ...       ...\n",
              "2020-01-23  0.001338  0.001109  0.000946  ... -0.000698 -0.000051  0.000933\n",
              "2020-01-24  0.001323  0.001097  0.000918  ... -0.000666 -0.000040  0.000904\n",
              "2020-01-27  0.001393  0.001144  0.000931  ... -0.000679 -0.000047  0.000877\n",
              "2020-01-28  0.001401  0.001151  0.000929  ... -0.000687 -0.000047  0.000849\n",
              "2020-01-29  0.001389  0.001137  0.000903  ... -0.000694 -0.000040  0.000818\n",
              "\n",
              "[2768 rows x 36 columns]"
            ]
          },
          "metadata": {
            "tags": []
          },
          "execution_count": 420
        }
      ]
    },
    {
      "cell_type": "code",
      "metadata": {
        "id": "02J2AR0Fo3Hx",
        "colab_type": "code",
        "colab": {
          "base_uri": "https://localhost:8080/",
          "height": 1000
        },
        "outputId": "917251aa-268e-4220-f3bc-ad384c68da09"
      },
      "source": [
        "\n",
        "\n",
        "while date_index_iter + shift < end_index:\n",
        "  print(\"date_index_iter:{}, shift:{}, end_index:{}\".format(date_index_iter, shift, end_index))\n",
        "\n",
        "  date = index[date_index_iter] \n",
        "  print(\"date:{}\".format(date))\n",
        "\n",
        "  portfolio_alloc = MarkowitzOpt(shift_returns_mean.loc[date], shift_returns_var.loc[date], covariance.loc[date], interest_rate, min_return)\n",
        "  distribution[date.strftime('%Y-%m-%d')] = portfolio_alloc\n",
        "\n",
        "  print(\"# Calculating portfolio return\")\n",
        "  date2 = index[date_index_iter+shift]\n",
        "  temp1 = price.loc[date2]/price.loc[date]\n",
        "  temp1.loc[StockList[-1]] = interest_rate+1\n",
        "  temp2 = Series(np.array(portfolio_alloc.ravel()).reshape(len(portfolio_alloc)),index=StockList)\n",
        "  total_value = np.sum(total_value*temp2*temp1)\n",
        "  # Increment Date\n",
        "  date_index_iter += shift\n",
        "  returns[index[date_index_iter]] = total_value"
      ],
      "execution_count": 421,
      "outputs": [
        {
          "output_type": "stream",
          "text": [
            "date_index_iter:83, shift:60, end_index:2767\n",
            "date:2009-06-01 00:00:00\n",
            "# Calculating portfolio return\n",
            "date_index_iter:143, shift:60, end_index:2767\n",
            "date:2009-08-25 00:00:00\n",
            "# Calculating portfolio return\n",
            "date_index_iter:203, shift:60, end_index:2767\n",
            "date:2009-11-18 00:00:00\n",
            "# Calculating portfolio return\n",
            "date_index_iter:263, shift:60, end_index:2767\n",
            "date:2010-02-17 00:00:00\n",
            "# Calculating portfolio return\n",
            "date_index_iter:323, shift:60, end_index:2767\n",
            "date:2010-05-13 00:00:00\n",
            "# Calculating portfolio return\n",
            "date_index_iter:383, shift:60, end_index:2767\n",
            "date:2010-08-09 00:00:00\n",
            "# Calculating portfolio return\n",
            "date_index_iter:443, shift:60, end_index:2767\n",
            "date:2010-11-02 00:00:00\n",
            "# Calculating portfolio return\n",
            "date_index_iter:503, shift:60, end_index:2767\n",
            "date:2011-01-28 00:00:00\n",
            "# Calculating portfolio return\n",
            "date_index_iter:563, shift:60, end_index:2767\n",
            "date:2011-04-26 00:00:00\n",
            "# Calculating portfolio return\n",
            "date_index_iter:623, shift:60, end_index:2767\n",
            "date:2011-07-21 00:00:00\n",
            "# Calculating portfolio return\n",
            "date_index_iter:683, shift:60, end_index:2767\n",
            "date:2011-10-14 00:00:00\n",
            "# Calculating portfolio return\n",
            "date_index_iter:743, shift:60, end_index:2767\n",
            "date:2012-01-11 00:00:00\n",
            "# Calculating portfolio return\n",
            "date_index_iter:803, shift:60, end_index:2767\n",
            "date:2012-04-09 00:00:00\n",
            "# Calculating portfolio return\n",
            "date_index_iter:863, shift:60, end_index:2767\n",
            "date:2012-07-03 00:00:00\n",
            "# Calculating portfolio return\n",
            "date_index_iter:923, shift:60, end_index:2767\n",
            "date:2012-09-27 00:00:00\n",
            "# Calculating portfolio return\n",
            "date_index_iter:983, shift:60, end_index:2767\n",
            "date:2012-12-26 00:00:00\n",
            "# Calculating portfolio return\n",
            "date_index_iter:1043, shift:60, end_index:2767\n",
            "date:2013-03-25 00:00:00\n",
            "# Calculating portfolio return\n",
            "date_index_iter:1103, shift:60, end_index:2767\n",
            "date:2013-06-19 00:00:00\n",
            "# Calculating portfolio return\n",
            "date_index_iter:1163, shift:60, end_index:2767\n",
            "date:2013-09-13 00:00:00\n",
            "# Calculating portfolio return\n",
            "date_index_iter:1223, shift:60, end_index:2767\n",
            "date:2013-12-09 00:00:00\n",
            "# Calculating portfolio return\n",
            "date_index_iter:1283, shift:60, end_index:2767\n",
            "date:2014-03-07 00:00:00\n",
            "# Calculating portfolio return\n",
            "date_index_iter:1343, shift:60, end_index:2767\n",
            "date:2014-06-03 00:00:00\n",
            "# Calculating portfolio return\n",
            "date_index_iter:1403, shift:60, end_index:2767\n",
            "date:2014-08-27 00:00:00\n",
            "# Calculating portfolio return\n",
            "date_index_iter:1463, shift:60, end_index:2767\n",
            "date:2014-11-20 00:00:00\n",
            "# Calculating portfolio return\n",
            "date_index_iter:1523, shift:60, end_index:2767\n",
            "date:2015-02-19 00:00:00\n",
            "# Calculating portfolio return\n",
            "date_index_iter:1583, shift:60, end_index:2767\n",
            "date:2015-05-15 00:00:00\n",
            "# Calculating portfolio return\n",
            "date_index_iter:1643, shift:60, end_index:2767\n",
            "date:2015-08-11 00:00:00\n",
            "# Calculating portfolio return\n",
            "date_index_iter:1703, shift:60, end_index:2767\n",
            "date:2015-11-04 00:00:00\n",
            "# Calculating portfolio return\n",
            "date_index_iter:1763, shift:60, end_index:2767\n",
            "date:2016-02-02 00:00:00\n",
            "# Calculating portfolio return\n",
            "date_index_iter:1823, shift:60, end_index:2767\n",
            "date:2016-04-28 00:00:00\n",
            "# Calculating portfolio return\n",
            "date_index_iter:1883, shift:60, end_index:2767\n",
            "date:2016-07-25 00:00:00\n",
            "# Calculating portfolio return\n",
            "date_index_iter:1943, shift:60, end_index:2767\n",
            "date:2016-10-18 00:00:00\n",
            "# Calculating portfolio return\n",
            "date_index_iter:2003, shift:60, end_index:2767\n",
            "date:2017-01-13 00:00:00\n",
            "# Calculating portfolio return\n",
            "date_index_iter:2063, shift:60, end_index:2767\n",
            "date:2017-04-11 00:00:00\n",
            "# Calculating portfolio return\n",
            "date_index_iter:2123, shift:60, end_index:2767\n",
            "date:2017-07-07 00:00:00\n",
            "# Calculating portfolio return\n",
            "date_index_iter:2183, shift:60, end_index:2767\n",
            "date:2017-10-02 00:00:00\n",
            "# Calculating portfolio return\n",
            "date_index_iter:2243, shift:60, end_index:2767\n",
            "date:2017-12-27 00:00:00\n",
            "# Calculating portfolio return\n",
            "date_index_iter:2303, shift:60, end_index:2767\n",
            "date:2018-03-26 00:00:00\n",
            "# Calculating portfolio return\n",
            "date_index_iter:2363, shift:60, end_index:2767\n",
            "date:2018-06-20 00:00:00\n",
            "# Calculating portfolio return\n",
            "date_index_iter:2423, shift:60, end_index:2767\n",
            "date:2018-09-14 00:00:00\n",
            "# Calculating portfolio return\n",
            "date_index_iter:2483, shift:60, end_index:2767\n",
            "date:2018-12-11 00:00:00\n",
            "# Calculating portfolio return\n",
            "date_index_iter:2543, shift:60, end_index:2767\n",
            "date:2019-03-11 00:00:00\n",
            "# Calculating portfolio return\n",
            "date_index_iter:2603, shift:60, end_index:2767\n",
            "date:2019-06-05 00:00:00\n",
            "# Calculating portfolio return\n",
            "date_index_iter:2663, shift:60, end_index:2767\n",
            "date:2019-08-29 00:00:00\n",
            "# Calculating portfolio return\n"
          ],
          "name": "stdout"
        }
      ]
    },
    {
      "cell_type": "code",
      "metadata": {
        "id": "y4ii-kgLbDD2",
        "colab_type": "code",
        "colab": {
          "base_uri": "https://localhost:8080/",
          "height": 970
        },
        "outputId": "981fa6cf-e713-4c70-d000-adbcad72e097"
      },
      "source": [
        "\n",
        "\n",
        "\n",
        "\n",
        "\n",
        "\n",
        "# Remove dates that there are no trades from returns\n",
        "returns = returns[np.isfinite(returns)]\n",
        "\n",
        "\n",
        "# Plot portfolio allocation of last 10 periods\n",
        "ax = distribution.T.iloc[-10:].plot(kind='bar',stacked=True)\n",
        "plt.ylim([0,1])\n",
        "plt.xlabel('Date')\n",
        "plt.ylabel('distribution')\n",
        "plt.title('distribution vs. Time')\n",
        "ax.legend(loc='center left', bbox_to_anchor=(1, 0.5))\n",
        "# plt.savefig('allocation.png')\n",
        "\n",
        "# Plot stock prices and shifted returns\n",
        "fig, axes = plt.subplots(nrows=2,ncols=1)\n",
        "price.plot(ax=axes[0])\n",
        "shift_returns.plot(ax=axes[1])\n",
        "axes[0].set_title('Stock Prices')\n",
        "axes[0].set_xlabel('Date')\n",
        "axes[0].set_ylabel('Price')\n",
        "axes[0].legend(loc='center left', bbox_to_anchor=(1, 0.5))\n",
        "axes[1].set_title(str(shift)+ ' Day Shift returns')\n",
        "axes[1].set_xlabel('Date')\n",
        "axes[1].set_ylabel('returns ' + str(shift) + ' Days Apart')\n",
        "axes[1].legend(loc='center left', bbox_to_anchor=(1, 0.5))\n",
        "# plt.savefig('stocks.png', pad_inches=1)\n",
        "fig.tight_layout()\n",
        "\n",
        "# Plot portfolio returns vs. time\n",
        "plt.figure()\n",
        "returns.plot()\n",
        "plt.xlabel('Date')\n",
        "plt.ylabel('Portolio acc. returns')\n",
        "plt.title('Portfolio acc. returns vs. Time')\n",
        "# plt.savefig('returns.png')\n",
        "\n",
        "plt.show()\n",
        "\n",
        "df = pd.DataFrame(returns, index=returns.index, columns=['I'])\n",
        "df[\"returns\"]=(df.I-df.I.shift(1))/df.I.shift(1)\n",
        "start_date = df.iloc[0].name\n",
        "end_date = df.iloc[-1].name\n",
        "days_per_month = 30 #since .days (see below) is calendar days, need to use 30 here\n",
        "months = (end_date - start_date).days/days_per_month \n",
        "periods = 12 #12 months in a year\n",
        "start_val = df['I'].iat[0]\n",
        "end_val = df['I'].iat[-1]\n",
        "years = months/periods\n",
        "\n",
        "CAGR = ((((end_val/start_val)**(1/years)))-1)\n",
        "TotaAnnReturn = (end_val-start_val)/start_val/years\n",
        "\n",
        "try:\n",
        "    sharpe =  TotaAnnReturn/( (df.returns.std()) * np.sqrt(periods))\n",
        "except ZeroDivisionError:\n",
        "    sharpe = 0.0\n",
        "\n",
        "#this is a more conservataive estimate:\n",
        "try:\n",
        "    sharpe2 =  (df.returns.mean()/df.returns.std()) * np.sqrt(periods)\n",
        "except ZeroDivisionError:\n",
        "    sharpe2 = 0.0\n",
        "\n",
        "print (\"TotaAnnReturn in percent = %f\" %(TotaAnnReturn*100))\n",
        "print (\"CAGR in percent = %f\" %(CAGR*100))\n",
        "print (\"Sharpe Ratio = %f\" %(round(sharpe,2)))\n",
        "print (\"Sharpe2 Ratio = %f\" %(round(sharpe2,2)))\n"
      ],
      "execution_count": 422,
      "outputs": [
        {
          "output_type": "display_data",
          "data": {
            "image/png": "[encoded data removed]",
            "text/plain": [
              "<Figure size 432x288 with 1 Axes>"
            ]
          },
          "metadata": {
            "tags": [],
            "needs_background": "light"
          }
        },
        {
          "output_type": "display_data",
          "data": {
            "image/png": "[encoded data removed]",
            "text/plain": [
              "<Figure size 432x288 with 2 Axes>"
            ]
          },
          "metadata": {
            "tags": [],
            "needs_background": "light"
          }
        },
        {
          "output_type": "display_data",
          "data": {
            "image/png": "[encoded data removed]",
            "text/plain": [
              "<Figure size 432x288 with 1 Axes>"
            ]
          },
          "metadata": {
            "tags": [],
            "needs_background": "light"
          }
        },
        {
          "output_type": "stream",
          "text": [
            "TotaAnnReturn in percent = 11.097678\n",
            "CAGR in percent = 7.605840\n",
            "Sharpe Ratio = 1.060000\n",
            "Sharpe2 Ratio = 2.110000\n"
          ],
          "name": "stdout"
        }
      ]
    },
    {
      "cell_type": "code",
      "metadata": {
        "id": "TCoVYJJX42Hg",
        "colab_type": "code",
        "colab": {
          "base_uri": "https://localhost:8080/",
          "height": 33
        },
        "outputId": "02a40e51-4bf6-4f98-d4bd-c2985c2aeda6"
      },
      "source": [
        "import math\n",
        "\n",
        "df.returns.std()*math.sqrt(12)"
      ],
      "execution_count": 446,
      "outputs": [
        {
          "output_type": "execute_result",
          "data": {
            "text/plain": [
              "0.10422041886712495"
            ]
          },
          "metadata": {
            "tags": []
          },
          "execution_count": 446
        }
      ]
    },
    {
      "cell_type": "code",
      "metadata": {
        "id": "90KCovqPyTQL",
        "colab_type": "code",
        "colab": {
          "base_uri": "https://localhost:8080/",
          "height": 33
        },
        "outputId": "f7789cd4-e6c7-45c6-c472-909905462dc7"
      },
      "source": [
        "StockList"
      ],
      "execution_count": 423,
      "outputs": [
        {
          "output_type": "execute_result",
          "data": {
            "text/plain": [
              "['XLB', 'XLE', 'XLF', 'XLI', 'XLK', 'XLP', 'XLU', 'XLV', 'XLY', 'InterestRate']"
            ]
          },
          "metadata": {
            "tags": []
          },
          "execution_count": 423
        }
      ]
    },
    {
      "cell_type": "code",
      "metadata": {
        "id": "6B8CkFJnyEQg",
        "colab_type": "code",
        "colab": {
          "base_uri": "https://localhost:8080/",
          "height": 66
        },
        "outputId": "d54bc667-7c09-420b-e41b-0031a0c9f424"
      },
      "source": [
        "portfolio_alloc"
      ],
      "execution_count": 424,
      "outputs": [
        {
          "output_type": "execute_result",
          "data": {
            "text/plain": [
              "array([1.09984697e-23, 1.09982579e-23, 1.09984697e-23, 1.09984697e-23,\n",
              "       1.09980461e-23, 1.09980462e-23, 1.09986815e-23, 1.09982580e-23,\n",
              "       1.09982579e-23, 1.00000000e+00])"
            ]
          },
          "metadata": {
            "tags": []
          },
          "execution_count": 424
        }
      ]
    },
    {
      "cell_type": "code",
      "metadata": {
        "id": "opgBaUdwyx2a",
        "colab_type": "code",
        "colab": {}
      },
      "source": [
        "descriptions = [\"XLB: Materials Select Sector SPDR Fund\"\n",
        ",\"XLE: Energy Select Sector SPDR Fund\"\n",
        ",\"XLF: Financial Select Sector SPDR\"\n",
        ",\"XLI: Industrial Select Sector SPDR Fund\"\n",
        ",\"XLK: Technology Sector\"\n",
        ",\"XLP: Consumer Staples Select Sector SPDR Fund\"\n",
        ",\"XLU: Utilities Select Sector SPDR Fund\"\n",
        ",\"XLV: Health Care Select Sector SPDR Fund\"\n",
        ",\"XLY: Consumer Discretionary Select Sector SPDR Fund\"\n",
        ", \"Risk Free Return (short term treasury bill)\"]"
      ],
      "execution_count": 425,
      "outputs": []
    },
    {
      "cell_type": "code",
      "metadata": {
        "id": "-ZSmeDVwyYlE",
        "colab_type": "code",
        "colab": {}
      },
      "source": [
        "dict = {'Weight': list(portfolio_alloc), 'Descriptions':descriptions}\n",
        "weight_dist_df = pd.DataFrame(dict, index= StockList) "
      ],
      "execution_count": 426,
      "outputs": []
    },
    {
      "cell_type": "code",
      "metadata": {
        "id": "yQ4JMUAaymRN",
        "colab_type": "code",
        "colab": {
          "base_uri": "https://localhost:8080/",
          "height": 335
        },
        "outputId": "52174658-0981-4efd-c22d-f8b5283739a2"
      },
      "source": [
        "weight_dist_df.sort_values(by=\"Weight\", ascending=False)"
      ],
      "execution_count": 427,
      "outputs": [
        {
          "output_type": "execute_result",
          "data": {
            "text/html": [
              "<div>\n",
              "<style scoped>\n",
              "    .dataframe tbody tr th:only-of-type {\n",
              "        vertical-align: middle;\n",
              "    }\n",
              "\n",
              "    .dataframe tbody tr th {\n",
              "        vertical-align: top;\n",
              "    }\n",
              "\n",
              "    .dataframe thead th {\n",
              "        text-align: right;\n",
              "    }\n",
              "</style>\n",
              "<table border=\"1\" class=\"dataframe\">\n",
              "  <thead>\n",
              "    <tr style=\"text-align: right;\">\n",
              "      <th></th>\n",
              "      <th>Weight</th>\n",
              "      <th>Descriptions</th>\n",
              "    </tr>\n",
              "  </thead>\n",
              "  <tbody>\n",
              "    <tr>\n",
              "      <th>InterestRate</th>\n",
              "      <td>1.000000e+00</td>\n",
              "      <td>Risk Free Return (short term treasury bill)</td>\n",
              "    </tr>\n",
              "    <tr>\n",
              "      <th>XLU</th>\n",
              "      <td>1.099868e-23</td>\n",
              "      <td>XLU: Utilities Select Sector SPDR Fund</td>\n",
              "    </tr>\n",
              "    <tr>\n",
              "      <th>XLB</th>\n",
              "      <td>1.099847e-23</td>\n",
              "      <td>XLB: Materials Select Sector SPDR Fund</td>\n",
              "    </tr>\n",
              "    <tr>\n",
              "      <th>XLF</th>\n",
              "      <td>1.099847e-23</td>\n",
              "      <td>XLF: Financial Select Sector SPDR</td>\n",
              "    </tr>\n",
              "    <tr>\n",
              "      <th>XLI</th>\n",
              "      <td>1.099847e-23</td>\n",
              "      <td>XLI: Industrial Select Sector SPDR Fund</td>\n",
              "    </tr>\n",
              "    <tr>\n",
              "      <th>XLV</th>\n",
              "      <td>1.099826e-23</td>\n",
              "      <td>XLV: Health Care Select Sector SPDR Fund</td>\n",
              "    </tr>\n",
              "    <tr>\n",
              "      <th>XLY</th>\n",
              "      <td>1.099826e-23</td>\n",
              "      <td>XLY: Consumer Discretionary Select Sector SPDR...</td>\n",
              "    </tr>\n",
              "    <tr>\n",
              "      <th>XLE</th>\n",
              "      <td>1.099826e-23</td>\n",
              "      <td>XLE: Energy Select Sector SPDR Fund</td>\n",
              "    </tr>\n",
              "    <tr>\n",
              "      <th>XLP</th>\n",
              "      <td>1.099805e-23</td>\n",
              "      <td>XLP: Consumer Staples Select Sector SPDR Fund</td>\n",
              "    </tr>\n",
              "    <tr>\n",
              "      <th>XLK</th>\n",
              "      <td>1.099805e-23</td>\n",
              "      <td>XLK: Technology Sector</td>\n",
              "    </tr>\n",
              "  </tbody>\n",
              "</table>\n",
              "</div>"
            ],
            "text/plain": [
              "                    Weight                                       Descriptions\n",
              "InterestRate  1.000000e+00        Risk Free Return (short term treasury bill)\n",
              "XLU           1.099868e-23             XLU: Utilities Select Sector SPDR Fund\n",
              "XLB           1.099847e-23             XLB: Materials Select Sector SPDR Fund\n",
              "XLF           1.099847e-23                  XLF: Financial Select Sector SPDR\n",
              "XLI           1.099847e-23            XLI: Industrial Select Sector SPDR Fund\n",
              "XLV           1.099826e-23           XLV: Health Care Select Sector SPDR Fund\n",
              "XLY           1.099826e-23  XLY: Consumer Discretionary Select Sector SPDR...\n",
              "XLE           1.099826e-23                XLE: Energy Select Sector SPDR Fund\n",
              "XLP           1.099805e-23      XLP: Consumer Staples Select Sector SPDR Fund\n",
              "XLK           1.099805e-23                             XLK: Technology Sector"
            ]
          },
          "metadata": {
            "tags": []
          },
          "execution_count": 427
        }
      ]
    },
    {
      "cell_type": "markdown",
      "metadata": {
        "id": "8ysiUBpmbw9G",
        "colab_type": "text"
      },
      "source": [
        "* Column `['I']` stands for investment. "
      ]
    },
    {
      "cell_type": "code",
      "metadata": {
        "id": "mbR-9VH1bwBY",
        "colab_type": "code",
        "colab": {
          "base_uri": "https://localhost:8080/",
          "height": 82
        },
        "outputId": "1cd3068d-48fb-4518-d74c-4ff9c26bb3ee"
      },
      "source": [
        "\n",
        "df = pd.DataFrame(returns, index=returns.index, columns=['I'])\n",
        "df[\"returns\"]=(df.I-df.I.shift(1))/df.I.shift(1)\n",
        "start_date = df.iloc[0].name\n",
        "end_date = df.iloc[-1].name\n",
        "days_per_month = 30 #since .days (see below) is calendar days, need to use 30 here\n",
        "months = (end_date - start_date).days/days_per_month \n",
        "periods = 12 #12 months in a year\n",
        "start_val = df['I'].iat[0]\n",
        "end_val = df['I'].iat[-1]\n",
        "years = months/periods\n",
        "\n",
        "CAGR = ((((end_val/start_val)**(1/years)))-1)\n",
        "TotaAnnReturn = (end_val-start_val)/start_val/years\n",
        "\n",
        "try:\n",
        "    sharpe =  TotaAnnReturn/( (df.returns.std()) * np.sqrt(periods))\n",
        "except ZeroDivisionError:\n",
        "    sharpe = 0.0\n",
        "\n",
        "#this is a more conservataive estimate:\n",
        "try:\n",
        "    sharpe2 =  (df.returns.mean()/df.returns.std()) * np.sqrt(periods)\n",
        "except ZeroDivisionError:\n",
        "    sharpe2 = 0.0\n",
        "\n",
        "print (\"TotaAnnReturn in percent = %f\" %(TotaAnnReturn*100))\n",
        "print (\"CAGR in percent = %f\" %(CAGR*100))\n",
        "print (\"Sharpe Ratio = %f\" %(round(sharpe,2)))\n",
        "print (\"Sharpe2 Ratio = %f\" %(round(sharpe2,2)))\n",
        " "
      ],
      "execution_count": 428,
      "outputs": [
        {
          "output_type": "stream",
          "text": [
            "TotaAnnReturn in percent = 11.097678\n",
            "CAGR in percent = 7.605840\n",
            "Sharpe Ratio = 1.060000\n",
            "Sharpe2 Ratio = 2.110000\n"
          ],
          "name": "stdout"
        }
      ]
    },
    {
      "cell_type": "code",
      "metadata": {
        "id": "KUn2Srw20UTm",
        "colab_type": "code",
        "colab": {
          "base_uri": "https://localhost:8080/",
          "height": 76
        },
        "outputId": "f2c83934-9092-4444-db25-49000056e61c"
      },
      "source": [
        "dict = {\"TotaAnnReturn in percent\":[TotaAnnReturn*100], 'CAGR in percent':[CAGR], 'Sharpe Ratio': [round(sharpe,2)],\\\n",
        "        'Sharpe2 Ratio':[round(sharpe2,2)], 'interest_rate':[interest_rate], 'min_return':[min_return], 'shift':[shift], 'lookback':[lookback]}\n",
        "output = pd.DataFrame(dict) \n",
        "output "
      ],
      "execution_count": 429,
      "outputs": [
        {
          "output_type": "execute_result",
          "data": {
            "text/html": [
              "<div>\n",
              "<style scoped>\n",
              "    .dataframe tbody tr th:only-of-type {\n",
              "        vertical-align: middle;\n",
              "    }\n",
              "\n",
              "    .dataframe tbody tr th {\n",
              "        vertical-align: top;\n",
              "    }\n",
              "\n",
              "    .dataframe thead th {\n",
              "        text-align: right;\n",
              "    }\n",
              "</style>\n",
              "<table border=\"1\" class=\"dataframe\">\n",
              "  <thead>\n",
              "    <tr style=\"text-align: right;\">\n",
              "      <th></th>\n",
              "      <th>TotaAnnReturn in percent</th>\n",
              "      <th>CAGR in percent</th>\n",
              "      <th>Sharpe Ratio</th>\n",
              "      <th>Sharpe2 Ratio</th>\n",
              "      <th>interest_rate</th>\n",
              "      <th>min_return</th>\n",
              "      <th>shift</th>\n",
              "      <th>lookback</th>\n",
              "    </tr>\n",
              "  </thead>\n",
              "  <tbody>\n",
              "    <tr>\n",
              "      <th>0</th>\n",
              "      <td>11.097678</td>\n",
              "      <td>0.076058</td>\n",
              "      <td>1.06</td>\n",
              "      <td>2.11</td>\n",
              "      <td>0.001667</td>\n",
              "      <td>0.08</td>\n",
              "      <td>60</td>\n",
              "      <td>60</td>\n",
              "    </tr>\n",
              "  </tbody>\n",
              "</table>\n",
              "</div>"
            ],
            "text/plain": [
              "   TotaAnnReturn in percent  CAGR in percent  ...  shift  lookback\n",
              "0                 11.097678         0.076058  ...     60        60\n",
              "\n",
              "[1 rows x 8 columns]"
            ]
          },
          "metadata": {
            "tags": []
          },
          "execution_count": 429
        }
      ]
    },
    {
      "cell_type": "code",
      "metadata": {
        "id": "ZzotlyFV1DDy",
        "colab_type": "code",
        "colab": {}
      },
      "source": [
        "# # dict = {\"TotaAnnReturn in percent\":[TotaAnnReturn*100], 'CAGR in percent':[CAGR], 'Sharpe Ratio': [round(sharpe,2)],\\\n",
        "# #         'Sharpe2 Ratio':[round(sharpe2,2)], 'interest_rate':[interest_rate], 'min_return':[min_return]  }\n",
        "# output_summary = pd.DataFrame(dict) "
      ],
      "execution_count": 430,
      "outputs": []
    },
    {
      "cell_type": "code",
      "metadata": {
        "id": "KeU1o4mQ092R",
        "colab_type": "code",
        "colab": {}
      },
      "source": [
        "output_summary = output_summary.append(output)"
      ],
      "execution_count": 431,
      "outputs": []
    },
    {
      "cell_type": "markdown",
      "metadata": {
        "id": "sEDgdQor4BU5",
        "colab_type": "text"
      },
      "source": [
        "**It seems counterintuitive that a low expected minimum return yields the highest annual return and viceversa.** \n",
        "* These returns seem too low, especially when compared to market average (they're underperforming). \n",
        "* The distribution over time becomes 100% weighted on interest rates and negative weights fo the other ones, which does not make sense if we don't allow for shorting. "
      ]
    },
    {
      "cell_type": "code",
      "metadata": {
        "id": "eTa81MV61jU6",
        "colab_type": "code",
        "colab": {
          "base_uri": "https://localhost:8080/",
          "height": 421
        },
        "outputId": "a0a05dd2-28e2-41e2-cc79-596072f6db1a"
      },
      "source": [
        "output_summary"
      ],
      "execution_count": 432,
      "outputs": [
        {
          "output_type": "execute_result",
          "data": {
            "text/html": [
              "<div>\n",
              "<style scoped>\n",
              "    .dataframe tbody tr th:only-of-type {\n",
              "        vertical-align: middle;\n",
              "    }\n",
              "\n",
              "    .dataframe tbody tr th {\n",
              "        vertical-align: top;\n",
              "    }\n",
              "\n",
              "    .dataframe thead th {\n",
              "        text-align: right;\n",
              "    }\n",
              "</style>\n",
              "<table border=\"1\" class=\"dataframe\">\n",
              "  <thead>\n",
              "    <tr style=\"text-align: right;\">\n",
              "      <th></th>\n",
              "      <th>level_0</th>\n",
              "      <th>index</th>\n",
              "      <th>TotaAnnReturn in percent</th>\n",
              "      <th>CAGR in percent</th>\n",
              "      <th>Sharpe Ratio</th>\n",
              "      <th>Sharpe2 Ratio</th>\n",
              "      <th>interest_rate</th>\n",
              "      <th>min_return</th>\n",
              "      <th>shift</th>\n",
              "      <th>lookback</th>\n",
              "    </tr>\n",
              "  </thead>\n",
              "  <tbody>\n",
              "    <tr>\n",
              "      <th>0</th>\n",
              "      <td>0.0</td>\n",
              "      <td>0.0</td>\n",
              "      <td>7.586572</td>\n",
              "      <td>0.056979</td>\n",
              "      <td>1.23</td>\n",
              "      <td>0.90</td>\n",
              "      <td>0.001667</td>\n",
              "      <td>0.02</td>\n",
              "      <td>20.0</td>\n",
              "      <td>60</td>\n",
              "    </tr>\n",
              "    <tr>\n",
              "      <th>1</th>\n",
              "      <td>1.0</td>\n",
              "      <td>0.0</td>\n",
              "      <td>4.079810</td>\n",
              "      <td>0.034381</td>\n",
              "      <td>1.41</td>\n",
              "      <td>1.14</td>\n",
              "      <td>0.001667</td>\n",
              "      <td>0.06</td>\n",
              "      <td>20.0</td>\n",
              "      <td>60</td>\n",
              "    </tr>\n",
              "    <tr>\n",
              "      <th>2</th>\n",
              "      <td>2.0</td>\n",
              "      <td>0.0</td>\n",
              "      <td>3.736395</td>\n",
              "      <td>0.031886</td>\n",
              "      <td>1.17</td>\n",
              "      <td>0.97</td>\n",
              "      <td>0.001667</td>\n",
              "      <td>0.08</td>\n",
              "      <td>20.0</td>\n",
              "      <td>60</td>\n",
              "    </tr>\n",
              "    <tr>\n",
              "      <th>3</th>\n",
              "      <td>3.0</td>\n",
              "      <td>0.0</td>\n",
              "      <td>4.286284</td>\n",
              "      <td>0.035853</td>\n",
              "      <td>0.93</td>\n",
              "      <td>0.76</td>\n",
              "      <td>0.001667</td>\n",
              "      <td>0.04</td>\n",
              "      <td>20.0</td>\n",
              "      <td>60</td>\n",
              "    </tr>\n",
              "    <tr>\n",
              "      <th>4</th>\n",
              "      <td>4.0</td>\n",
              "      <td>0.0</td>\n",
              "      <td>3.736395</td>\n",
              "      <td>0.031886</td>\n",
              "      <td>1.17</td>\n",
              "      <td>0.97</td>\n",
              "      <td>0.001667</td>\n",
              "      <td>0.08</td>\n",
              "      <td>20.0</td>\n",
              "      <td>60</td>\n",
              "    </tr>\n",
              "    <tr>\n",
              "      <th>5</th>\n",
              "      <td>5.0</td>\n",
              "      <td>0.0</td>\n",
              "      <td>11.097678</td>\n",
              "      <td>0.076058</td>\n",
              "      <td>1.06</td>\n",
              "      <td>2.11</td>\n",
              "      <td>0.001667</td>\n",
              "      <td>0.08</td>\n",
              "      <td>20.0</td>\n",
              "      <td>60</td>\n",
              "    </tr>\n",
              "    <tr>\n",
              "      <th>6</th>\n",
              "      <td>6.0</td>\n",
              "      <td>0.0</td>\n",
              "      <td>11.097678</td>\n",
              "      <td>0.076058</td>\n",
              "      <td>1.06</td>\n",
              "      <td>2.11</td>\n",
              "      <td>0.001667</td>\n",
              "      <td>0.08</td>\n",
              "      <td>20.0</td>\n",
              "      <td>60</td>\n",
              "    </tr>\n",
              "    <tr>\n",
              "      <th>7</th>\n",
              "      <td>7.0</td>\n",
              "      <td>0.0</td>\n",
              "      <td>5.331124</td>\n",
              "      <td>0.043143</td>\n",
              "      <td>1.00</td>\n",
              "      <td>2.34</td>\n",
              "      <td>0.001667</td>\n",
              "      <td>0.02</td>\n",
              "      <td>60.0</td>\n",
              "      <td>60</td>\n",
              "    </tr>\n",
              "    <tr>\n",
              "      <th>8</th>\n",
              "      <td>8.0</td>\n",
              "      <td>0.0</td>\n",
              "      <td>8.441206</td>\n",
              "      <td>0.062103</td>\n",
              "      <td>0.87</td>\n",
              "      <td>1.85</td>\n",
              "      <td>0.001667</td>\n",
              "      <td>0.04</td>\n",
              "      <td>60.0</td>\n",
              "      <td>60</td>\n",
              "    </tr>\n",
              "    <tr>\n",
              "      <th>9</th>\n",
              "      <td>9.0</td>\n",
              "      <td>0.0</td>\n",
              "      <td>11.552139</td>\n",
              "      <td>0.078280</td>\n",
              "      <td>1.07</td>\n",
              "      <td>2.10</td>\n",
              "      <td>0.001667</td>\n",
              "      <td>0.06</td>\n",
              "      <td>60.0</td>\n",
              "      <td>60</td>\n",
              "    </tr>\n",
              "    <tr>\n",
              "      <th>10</th>\n",
              "      <td>10.0</td>\n",
              "      <td>0.0</td>\n",
              "      <td>7.278554</td>\n",
              "      <td>0.055393</td>\n",
              "      <td>0.66</td>\n",
              "      <td>1.48</td>\n",
              "      <td>0.001667</td>\n",
              "      <td>0.07</td>\n",
              "      <td>60.0</td>\n",
              "      <td>60</td>\n",
              "    </tr>\n",
              "    <tr>\n",
              "      <th>11</th>\n",
              "      <td>0.0</td>\n",
              "      <td>NaN</td>\n",
              "      <td>7.278554</td>\n",
              "      <td>0.055393</td>\n",
              "      <td>0.66</td>\n",
              "      <td>1.48</td>\n",
              "      <td>0.001667</td>\n",
              "      <td>0.08</td>\n",
              "      <td>60.0</td>\n",
              "      <td>60</td>\n",
              "    </tr>\n",
              "    <tr>\n",
              "      <th>0</th>\n",
              "      <td>NaN</td>\n",
              "      <td>NaN</td>\n",
              "      <td>11.097678</td>\n",
              "      <td>0.076058</td>\n",
              "      <td>1.06</td>\n",
              "      <td>2.11</td>\n",
              "      <td>0.001667</td>\n",
              "      <td>0.08</td>\n",
              "      <td>60.0</td>\n",
              "      <td>60</td>\n",
              "    </tr>\n",
              "  </tbody>\n",
              "</table>\n",
              "</div>"
            ],
            "text/plain": [
              "    level_0  index  TotaAnnReturn in percent  ...  min_return  shift  lookback\n",
              "0       0.0    0.0                  7.586572  ...        0.02   20.0        60\n",
              "1       1.0    0.0                  4.079810  ...        0.06   20.0        60\n",
              "2       2.0    0.0                  3.736395  ...        0.08   20.0        60\n",
              "3       3.0    0.0                  4.286284  ...        0.04   20.0        60\n",
              "4       4.0    0.0                  3.736395  ...        0.08   20.0        60\n",
              "5       5.0    0.0                 11.097678  ...        0.08   20.0        60\n",
              "6       6.0    0.0                 11.097678  ...        0.08   20.0        60\n",
              "7       7.0    0.0                  5.331124  ...        0.02   60.0        60\n",
              "8       8.0    0.0                  8.441206  ...        0.04   60.0        60\n",
              "9       9.0    0.0                 11.552139  ...        0.06   60.0        60\n",
              "10     10.0    0.0                  7.278554  ...        0.07   60.0        60\n",
              "11      0.0    NaN                  7.278554  ...        0.08   60.0        60\n",
              "0       NaN    NaN                 11.097678  ...        0.08   60.0        60\n",
              "\n",
              "[13 rows x 10 columns]"
            ]
          },
          "metadata": {
            "tags": []
          },
          "execution_count": 432
        }
      ]
    },
    {
      "cell_type": "code",
      "metadata": {
        "id": "k5P7VtgV1p4b",
        "colab_type": "code",
        "colab": {}
      },
      "source": [
        "output_summary.loc[0]['shift'] = 20"
      ],
      "execution_count": null,
      "outputs": []
    },
    {
      "cell_type": "code",
      "metadata": {
        "id": "eIntKip71q46",
        "colab_type": "code",
        "colab": {}
      },
      "source": [
        "output_summary.iloc[6, output_summary.columns.get_loc('shift')]=20"
      ],
      "execution_count": null,
      "outputs": []
    },
    {
      "cell_type": "code",
      "metadata": {
        "id": "KFbWa4nq2w3x",
        "colab_type": "code",
        "colab": {
          "base_uri": "https://localhost:8080/",
          "height": 335
        },
        "outputId": "a8142d4e-0966-4e64-805b-064e1f223bd7"
      },
      "source": [
        "output_summary"
      ],
      "execution_count": 443,
      "outputs": [
        {
          "output_type": "execute_result",
          "data": {
            "text/html": [
              "<div>\n",
              "<style scoped>\n",
              "    .dataframe tbody tr th:only-of-type {\n",
              "        vertical-align: middle;\n",
              "    }\n",
              "\n",
              "    .dataframe tbody tr th {\n",
              "        vertical-align: top;\n",
              "    }\n",
              "\n",
              "    .dataframe thead th {\n",
              "        text-align: right;\n",
              "    }\n",
              "</style>\n",
              "<table border=\"1\" class=\"dataframe\">\n",
              "  <thead>\n",
              "    <tr style=\"text-align: right;\">\n",
              "      <th></th>\n",
              "      <th>TotaAnnReturn in percent</th>\n",
              "      <th>CAGR in percent</th>\n",
              "      <th>Sharpe Ratio</th>\n",
              "      <th>Sharpe2 Ratio</th>\n",
              "      <th>interest_rate</th>\n",
              "      <th>min_return</th>\n",
              "      <th>shift</th>\n",
              "      <th>lookback</th>\n",
              "    </tr>\n",
              "  </thead>\n",
              "  <tbody>\n",
              "    <tr>\n",
              "      <th>0</th>\n",
              "      <td>7.586572</td>\n",
              "      <td>0.056979</td>\n",
              "      <td>1.23</td>\n",
              "      <td>0.90</td>\n",
              "      <td>0.001667</td>\n",
              "      <td>0.02</td>\n",
              "      <td>20.0</td>\n",
              "      <td>60</td>\n",
              "    </tr>\n",
              "    <tr>\n",
              "      <th>2</th>\n",
              "      <td>3.736395</td>\n",
              "      <td>0.031886</td>\n",
              "      <td>1.17</td>\n",
              "      <td>0.97</td>\n",
              "      <td>0.001667</td>\n",
              "      <td>0.08</td>\n",
              "      <td>20.0</td>\n",
              "      <td>60</td>\n",
              "    </tr>\n",
              "    <tr>\n",
              "      <th>3</th>\n",
              "      <td>4.286284</td>\n",
              "      <td>0.035853</td>\n",
              "      <td>0.93</td>\n",
              "      <td>0.76</td>\n",
              "      <td>0.001667</td>\n",
              "      <td>0.04</td>\n",
              "      <td>20.0</td>\n",
              "      <td>60</td>\n",
              "    </tr>\n",
              "    <tr>\n",
              "      <th>4</th>\n",
              "      <td>3.736395</td>\n",
              "      <td>0.031886</td>\n",
              "      <td>1.17</td>\n",
              "      <td>0.97</td>\n",
              "      <td>0.001667</td>\n",
              "      <td>0.08</td>\n",
              "      <td>20.0</td>\n",
              "      <td>60</td>\n",
              "    </tr>\n",
              "    <tr>\n",
              "      <th>7</th>\n",
              "      <td>5.331124</td>\n",
              "      <td>0.043143</td>\n",
              "      <td>1.00</td>\n",
              "      <td>2.34</td>\n",
              "      <td>0.001667</td>\n",
              "      <td>0.02</td>\n",
              "      <td>60.0</td>\n",
              "      <td>60</td>\n",
              "    </tr>\n",
              "    <tr>\n",
              "      <th>8</th>\n",
              "      <td>8.441206</td>\n",
              "      <td>0.062103</td>\n",
              "      <td>0.87</td>\n",
              "      <td>1.85</td>\n",
              "      <td>0.001667</td>\n",
              "      <td>0.04</td>\n",
              "      <td>60.0</td>\n",
              "      <td>60</td>\n",
              "    </tr>\n",
              "    <tr>\n",
              "      <th>9</th>\n",
              "      <td>11.552139</td>\n",
              "      <td>0.078280</td>\n",
              "      <td>1.07</td>\n",
              "      <td>2.10</td>\n",
              "      <td>0.001667</td>\n",
              "      <td>0.06</td>\n",
              "      <td>60.0</td>\n",
              "      <td>60</td>\n",
              "    </tr>\n",
              "    <tr>\n",
              "      <th>10</th>\n",
              "      <td>7.278554</td>\n",
              "      <td>0.055393</td>\n",
              "      <td>0.66</td>\n",
              "      <td>1.48</td>\n",
              "      <td>0.001667</td>\n",
              "      <td>0.07</td>\n",
              "      <td>60.0</td>\n",
              "      <td>60</td>\n",
              "    </tr>\n",
              "    <tr>\n",
              "      <th>11</th>\n",
              "      <td>7.278554</td>\n",
              "      <td>0.055393</td>\n",
              "      <td>0.66</td>\n",
              "      <td>1.48</td>\n",
              "      <td>0.001667</td>\n",
              "      <td>0.08</td>\n",
              "      <td>60.0</td>\n",
              "      <td>60</td>\n",
              "    </tr>\n",
              "    <tr>\n",
              "      <th>0</th>\n",
              "      <td>11.097678</td>\n",
              "      <td>0.076058</td>\n",
              "      <td>1.06</td>\n",
              "      <td>2.11</td>\n",
              "      <td>0.001667</td>\n",
              "      <td>0.08</td>\n",
              "      <td>60.0</td>\n",
              "      <td>60</td>\n",
              "    </tr>\n",
              "  </tbody>\n",
              "</table>\n",
              "</div>"
            ],
            "text/plain": [
              "    TotaAnnReturn in percent  CAGR in percent  ...  shift  lookback\n",
              "0                   7.586572         0.056979  ...   20.0        60\n",
              "2                   3.736395         0.031886  ...   20.0        60\n",
              "3                   4.286284         0.035853  ...   20.0        60\n",
              "4                   3.736395         0.031886  ...   20.0        60\n",
              "7                   5.331124         0.043143  ...   60.0        60\n",
              "8                   8.441206         0.062103  ...   60.0        60\n",
              "9                  11.552139         0.078280  ...   60.0        60\n",
              "10                  7.278554         0.055393  ...   60.0        60\n",
              "11                  7.278554         0.055393  ...   60.0        60\n",
              "0                  11.097678         0.076058  ...   60.0        60\n",
              "\n",
              "[10 rows x 8 columns]"
            ]
          },
          "metadata": {
            "tags": []
          },
          "execution_count": 443
        }
      ]
    },
    {
      "cell_type": "code",
      "metadata": {
        "id": "q0RP64Vg4mUc",
        "colab_type": "code",
        "colab": {}
      },
      "source": [
        ""
      ],
      "execution_count": null,
      "outputs": []
    }
  ]
}