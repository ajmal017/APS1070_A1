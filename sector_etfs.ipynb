{
  "nbformat": 4,
  "nbformat_minor": 0,
  "metadata": {
    "colab": {
      "name": "sector_etfs.ipynb",
      "provenance": [],
      "authorship_tag": "ABX9TyPaMiewPw39ezWdKFP9i467",
      "include_colab_link": true
    },
    "kernelspec": {
      "name": "python3",
      "display_name": "Python 3"
    }
  },
  "cells": [
    {
      "cell_type": "markdown",
      "metadata": {
        "id": "view-in-github",
        "colab_type": "text"
      },
      "source": [
        "<a href=\"https://colab.research.google.com/github/armandordorica/APS1070_A1/blob/master/sector_etfs.ipynb\" target=\"_parent\"><img src=\"https://colab.research.google.com/assets/colab-badge.svg\" alt=\"Open In Colab\"/></a>"
      ]
    },
    {
      "cell_type": "code",
      "metadata": {
        "id": "lljD3YWq8sP9",
        "colab_type": "code",
        "colab": {
          "base_uri": "https://localhost:8080/",
          "height": 342
        },
        "outputId": "3f2a32e7-cfdf-4b2b-bbd6-501856237af8"
      },
      "source": [
        "!pip install yfinance"
      ],
      "execution_count": 2,
      "outputs": [
        {
          "output_type": "stream",
          "text": [
            "Collecting yfinance\n",
            "  Downloading https://files.pythonhosted.org/packages/c2/31/8b374a12b90def92a4e27d0fc595fc43635f395984e36a075244d98bd265/yfinance-0.1.54.tar.gz\n",
            "Requirement already satisfied: pandas>=0.24 in /usr/local/lib/python3.6/dist-packages (from yfinance) (1.0.5)\n",
            "Requirement already satisfied: numpy>=1.15 in /usr/local/lib/python3.6/dist-packages (from yfinance) (1.18.5)\n",
            "Requirement already satisfied: requests>=2.20 in /usr/local/lib/python3.6/dist-packages (from yfinance) (2.23.0)\n",
            "Requirement already satisfied: multitasking>=0.0.7 in /usr/local/lib/python3.6/dist-packages (from yfinance) (0.0.9)\n",
            "Requirement already satisfied: python-dateutil>=2.6.1 in /usr/local/lib/python3.6/dist-packages (from pandas>=0.24->yfinance) (2.8.1)\n",
            "Requirement already satisfied: pytz>=2017.2 in /usr/local/lib/python3.6/dist-packages (from pandas>=0.24->yfinance) (2018.9)\n",
            "Requirement already satisfied: chardet<4,>=3.0.2 in /usr/local/lib/python3.6/dist-packages (from requests>=2.20->yfinance) (3.0.4)\n",
            "Requirement already satisfied: urllib3!=1.25.0,!=1.25.1,<1.26,>=1.21.1 in /usr/local/lib/python3.6/dist-packages (from requests>=2.20->yfinance) (1.24.3)\n",
            "Requirement already satisfied: idna<3,>=2.5 in /usr/local/lib/python3.6/dist-packages (from requests>=2.20->yfinance) (2.10)\n",
            "Requirement already satisfied: certifi>=2017.4.17 in /usr/local/lib/python3.6/dist-packages (from requests>=2.20->yfinance) (2020.6.20)\n",
            "Requirement already satisfied: six>=1.5 in /usr/local/lib/python3.6/dist-packages (from python-dateutil>=2.6.1->pandas>=0.24->yfinance) (1.12.0)\n",
            "Building wheels for collected packages: yfinance\n",
            "  Building wheel for yfinance (setup.py) ... \u001b[?25l\u001b[?25hdone\n",
            "  Created wheel for yfinance: filename=yfinance-0.1.54-py2.py3-none-any.whl size=22409 sha256=e0ff8003e06f4f4c126c136f0ae20f81664169546ea4d0fa5e7dbb7356211e67\n",
            "  Stored in directory: /root/.cache/pip/wheels/f9/e3/5b/ec24dd2984b12d61e0abf26289746c2436a0e7844f26f2515c\n",
            "Successfully built yfinance\n",
            "Installing collected packages: yfinance\n",
            "Successfully installed yfinance-0.1.54\n"
          ],
          "name": "stdout"
        }
      ]
    },
    {
      "cell_type": "code",
      "metadata": {
        "id": "FwF-Yvg08mln",
        "colab_type": "code",
        "colab": {}
      },
      "source": [
        "from datetime import datetime, timedelta\n",
        "from pandas_datareader import data as pdr\n",
        "\n",
        "import yfinance as yf\n",
        "import pandas as pd\n",
        "\n",
        "\n",
        "class Stock: \n",
        "  def __init__(self, stock_name, start_dt, end_dt):\n",
        "    yf.pdr_override() # <== that's all it takes :-)\n",
        "\n",
        "    self.stock_name = stock_name \n",
        "    self.start_dt = start_dt\n",
        "    self.end_dt = end_dt \n",
        "    self.data = pdr.get_data_yahoo(self.stock_name, start=self.start_dt, end=self.end_dt)\n",
        "\n",
        "    self.ticker = yf.Ticker(self.stock_name)\n",
        "    self.beta = self.ticker.info['beta']\n",
        "\n",
        "    self.timeseries = self.data['Close']\n",
        "    self.dates = self.timeseries.index.to_frame()\n",
        "    # self.one_year_return = self.get_annual_return(1)\n",
        "    # self.two_year_return = self.get_annual_return(2)\n",
        "    # self.five_year_return = self.get_annual_return(5)\n",
        "\n",
        "  def get_annual_return(self, num_years):\n",
        "    period = 365 *num_years\n",
        "    print(\"Period:{}\".format(period))\n",
        "    end = max(self.timeseries.index)\n",
        "    print(\"end:{}\".format(end))\n",
        "  \n",
        "    start = end - timedelta(days=period)\n",
        "    try: \n",
        "      start = self.dates[self.dates['Date']<=start].iloc[-1].Date\n",
        "      print(\"start:{}\".format(start))\n",
        "\n",
        "      ending_balance = self.timeseries.loc[end]\n",
        "      beginning_balance = self.timeseries.loc[start]  \n",
        "\n",
        "      return ((ending_balance - beginning_balance)/beginning_balance)/(period//365)\n",
        "\n",
        "    except:\n",
        "      print(\"\\n Start date:{} is not available!\".format(start))\n",
        "\n",
        "  def get_monthly_return(self, num_months):\n",
        "    period = 30 *num_months\n",
        "    print(\"Period:{}\".format(period))\n",
        "    end = max(self.timeseries.index)\n",
        "    print(\"end:{}\".format(end))\n",
        "  \n",
        "    start = end - timedelta(days=period)\n",
        "    try: \n",
        "      start = self.dates[self.dates['Date']<=start].iloc[-1].Date\n",
        "      print(\"start:{}\".format(start))\n",
        "\n",
        "      ending_balance = self.timeseries.loc[end]\n",
        "      beginning_balance = self.timeseries.loc[start]  \n",
        "\n",
        "      return ((ending_balance - beginning_balance)/beginning_balance)/(period//30)\n",
        "\n",
        "    except:\n",
        "      print(\"\\n Start date:{} is not available!\".format(start))\n",
        "\n",
        "  \n",
        "  def get_monthly_std(self, num_months): \n",
        "    period = 30*num_months\n",
        "    print(\"Period:{}\".format(period))\n",
        "    end = max(self.timeseries.index)\n",
        "    print(\"end:{}\".format(end))\n",
        "  \n",
        "    start = end - timedelta(days=period)\n",
        "    try: \n",
        "\n",
        "      std_dev = self.data.loc[start:end]['Close'].std()\n",
        "\n",
        "      print(\"start:{}\".format(start))\n",
        "\n",
        "      return std_dev\n",
        "\n",
        "    except:\n",
        "      print(\"\\n Start date:{} is not available!\".format(start))\n",
        "\n",
        "  \n",
        "  \n",
        "  def plot(self):\n",
        "    self.timeseries.plot()\n",
        "    plt.title(self.stock_name)"
      ],
      "execution_count": 62,
      "outputs": []
    },
    {
      "cell_type": "markdown",
      "metadata": {
        "id": "QA6PiU-lMfvF",
        "colab_type": "text"
      },
      "source": [
        "### **Input your list of Stocks or ETFs here**"
      ]
    },
    {
      "cell_type": "code",
      "metadata": {
        "id": "_Z50_biGGgMR",
        "colab_type": "code",
        "colab": {}
      },
      "source": [
        "sector_etfs = ['IGV', 'IYJ', 'FDN', 'SMH', 'PBS', 'KBE', 'IYW', 'KIE', 'ITA', 'IHI', 'ITB', 'IYT', 'XLB', 'IYZ', 'KCE', 'XLP', 'VNQ', 'IHE', 'PBJ', 'IBB', 'IEZ', 'XLU', 'XOP', 'XRT', 'IHF']"
      ],
      "execution_count": 40,
      "outputs": []
    },
    {
      "cell_type": "code",
      "metadata": {
        "id": "iEiNhG_yG6DY",
        "colab_type": "code",
        "colab": {
          "base_uri": "https://localhost:8080/",
          "height": 1000
        },
        "outputId": "bf0559b0-5ddf-4b76-f32e-a0301e28c43f"
      },
      "source": [
        "three_mth_returns = []\n",
        "for etf in sector_etfs: \n",
        "  etf_yahoo = Stock(etf, '2020-01-01', '2020-07-01')\n",
        "  three_mth_returns.append(etf_yahoo.get_monthly_return(3))"
      ],
      "execution_count": 41,
      "outputs": [
        {
          "output_type": "stream",
          "text": [
            "[*********************100%***********************]  1 of 1 completed\n",
            "Period:90\n",
            "end:2020-06-30 00:00:00\n",
            "start:2020-04-01 00:00:00\n",
            "[*********************100%***********************]  1 of 1 completed\n",
            "Period:90\n",
            "end:2020-06-30 00:00:00\n",
            "start:2020-04-01 00:00:00\n",
            "[*********************100%***********************]  1 of 1 completed\n",
            "Period:90\n",
            "end:2020-06-30 00:00:00\n",
            "start:2020-04-01 00:00:00\n",
            "[*********************100%***********************]  1 of 1 completed\n",
            "Period:90\n",
            "end:2020-06-30 00:00:00\n",
            "start:2020-04-01 00:00:00\n",
            "[*********************100%***********************]  1 of 1 completed\n",
            "Period:90\n",
            "end:2020-06-30 00:00:00\n",
            "start:2020-04-01 00:00:00\n",
            "[*********************100%***********************]  1 of 1 completed\n",
            "Period:90\n",
            "end:2020-06-30 00:00:00\n",
            "start:2020-04-01 00:00:00\n",
            "[*********************100%***********************]  1 of 1 completed\n",
            "Period:90\n",
            "end:2020-06-30 00:00:00\n",
            "start:2020-04-01 00:00:00\n",
            "[*********************100%***********************]  1 of 1 completed\n",
            "Period:90\n",
            "end:2020-06-30 00:00:00\n",
            "start:2020-04-01 00:00:00\n",
            "[*********************100%***********************]  1 of 1 completed\n",
            "Period:90\n",
            "end:2020-06-30 00:00:00\n",
            "start:2020-04-01 00:00:00\n",
            "[*********************100%***********************]  1 of 1 completed\n",
            "Period:90\n",
            "end:2020-06-30 00:00:00\n",
            "start:2020-04-01 00:00:00\n",
            "[*********************100%***********************]  1 of 1 completed\n",
            "Period:90\n",
            "end:2020-06-30 00:00:00\n",
            "start:2020-04-01 00:00:00\n",
            "[*********************100%***********************]  1 of 1 completed\n",
            "Period:90\n",
            "end:2020-06-30 00:00:00\n",
            "start:2020-04-01 00:00:00\n",
            "[*********************100%***********************]  1 of 1 completed\n",
            "Period:90\n",
            "end:2020-06-30 00:00:00\n",
            "start:2020-04-01 00:00:00\n",
            "[*********************100%***********************]  1 of 1 completed\n",
            "Period:90\n",
            "end:2020-06-30 00:00:00\n",
            "start:2020-04-01 00:00:00\n",
            "[*********************100%***********************]  1 of 1 completed\n",
            "Period:90\n",
            "end:2020-06-30 00:00:00\n",
            "start:2020-04-01 00:00:00\n",
            "[*********************100%***********************]  1 of 1 completed\n",
            "Period:90\n",
            "end:2020-06-30 00:00:00\n",
            "start:2020-04-01 00:00:00\n",
            "[*********************100%***********************]  1 of 1 completed\n",
            "Period:90\n",
            "end:2020-06-30 00:00:00\n",
            "start:2020-04-01 00:00:00\n",
            "[*********************100%***********************]  1 of 1 completed\n",
            "Period:90\n",
            "end:2020-06-30 00:00:00\n",
            "start:2020-04-01 00:00:00\n",
            "[*********************100%***********************]  1 of 1 completed\n",
            "Period:90\n",
            "end:2020-06-30 00:00:00\n",
            "start:2020-04-01 00:00:00\n",
            "[*********************100%***********************]  1 of 1 completed\n",
            "Period:90\n",
            "end:2020-06-30 00:00:00\n",
            "start:2020-04-01 00:00:00\n",
            "[*********************100%***********************]  1 of 1 completed\n",
            "Period:90\n",
            "end:2020-06-30 00:00:00\n",
            "start:2020-04-01 00:00:00\n",
            "[*********************100%***********************]  1 of 1 completed\n",
            "Period:90\n",
            "end:2020-06-30 00:00:00\n",
            "start:2020-04-01 00:00:00\n",
            "[*********************100%***********************]  1 of 1 completed\n",
            "Period:90\n",
            "end:2020-06-30 00:00:00\n",
            "start:2020-04-01 00:00:00\n",
            "[*********************100%***********************]  1 of 1 completed\n",
            "Period:90\n",
            "end:2020-06-30 00:00:00\n",
            "start:2020-04-01 00:00:00\n",
            "[*********************100%***********************]  1 of 1 completed\n",
            "Period:90\n",
            "end:2020-06-30 00:00:00\n",
            "start:2020-04-01 00:00:00\n"
          ],
          "name": "stdout"
        }
      ]
    },
    {
      "cell_type": "code",
      "metadata": {
        "id": "Gf-s6_yGJ6Rv",
        "colab_type": "code",
        "colab": {
          "base_uri": "https://localhost:8080/",
          "height": 1000
        },
        "outputId": "786db2d0-382c-440b-ec21-5f28ba6291f8"
      },
      "source": [
        "three_mth_stddevs = []\n",
        "for etf in sector_etfs: \n",
        "  etf_yahoo = Stock(etf, '2020-01-01', '2020-07-01')\n",
        "  three_mth_stddevs.append(etf_yahoo.get_monthly_std(3))"
      ],
      "execution_count": 71,
      "outputs": [
        {
          "output_type": "stream",
          "text": [
            "[*********************100%***********************]  1 of 1 completed\n",
            "Period:90\n",
            "end:2020-06-30 00:00:00\n",
            "start:2020-04-01 00:00:00\n",
            "[*********************100%***********************]  1 of 1 completed\n",
            "Period:90\n",
            "end:2020-06-30 00:00:00\n",
            "start:2020-04-01 00:00:00\n",
            "[*********************100%***********************]  1 of 1 completed\n",
            "Period:90\n",
            "end:2020-06-30 00:00:00\n",
            "start:2020-04-01 00:00:00\n",
            "[*********************100%***********************]  1 of 1 completed\n",
            "Period:90\n",
            "end:2020-06-30 00:00:00\n",
            "start:2020-04-01 00:00:00\n",
            "[*********************100%***********************]  1 of 1 completed\n",
            "Period:90\n",
            "end:2020-06-30 00:00:00\n",
            "start:2020-04-01 00:00:00\n",
            "[*********************100%***********************]  1 of 1 completed\n",
            "Period:90\n",
            "end:2020-06-30 00:00:00\n",
            "start:2020-04-01 00:00:00\n",
            "[*********************100%***********************]  1 of 1 completed\n",
            "Period:90\n",
            "end:2020-06-30 00:00:00\n",
            "start:2020-04-01 00:00:00\n",
            "[*********************100%***********************]  1 of 1 completed\n",
            "Period:90\n",
            "end:2020-06-30 00:00:00\n",
            "start:2020-04-01 00:00:00\n",
            "[*********************100%***********************]  1 of 1 completed\n",
            "Period:90\n",
            "end:2020-06-30 00:00:00\n",
            "start:2020-04-01 00:00:00\n",
            "[*********************100%***********************]  1 of 1 completed\n",
            "Period:90\n",
            "end:2020-06-30 00:00:00\n",
            "start:2020-04-01 00:00:00\n",
            "[*********************100%***********************]  1 of 1 completed\n",
            "Period:90\n",
            "end:2020-06-30 00:00:00\n",
            "start:2020-04-01 00:00:00\n",
            "[*********************100%***********************]  1 of 1 completed\n",
            "Period:90\n",
            "end:2020-06-30 00:00:00\n",
            "start:2020-04-01 00:00:00\n",
            "[*********************100%***********************]  1 of 1 completed\n",
            "Period:90\n",
            "end:2020-06-30 00:00:00\n",
            "start:2020-04-01 00:00:00\n",
            "[*********************100%***********************]  1 of 1 completed\n",
            "Period:90\n",
            "end:2020-06-30 00:00:00\n",
            "start:2020-04-01 00:00:00\n",
            "[*********************100%***********************]  1 of 1 completed\n",
            "Period:90\n",
            "end:2020-06-30 00:00:00\n",
            "start:2020-04-01 00:00:00\n",
            "[*********************100%***********************]  1 of 1 completed\n",
            "Period:90\n",
            "end:2020-06-30 00:00:00\n",
            "start:2020-04-01 00:00:00\n",
            "[*********************100%***********************]  1 of 1 completed\n",
            "Period:90\n",
            "end:2020-06-30 00:00:00\n",
            "start:2020-04-01 00:00:00\n",
            "[*********************100%***********************]  1 of 1 completed\n",
            "Period:90\n",
            "end:2020-06-30 00:00:00\n",
            "start:2020-04-01 00:00:00\n",
            "[*********************100%***********************]  1 of 1 completed\n",
            "Period:90\n",
            "end:2020-06-30 00:00:00\n",
            "start:2020-04-01 00:00:00\n",
            "[*********************100%***********************]  1 of 1 completed\n",
            "Period:90\n",
            "end:2020-06-30 00:00:00\n",
            "start:2020-04-01 00:00:00\n",
            "[*********************100%***********************]  1 of 1 completed\n",
            "Period:90\n",
            "end:2020-06-30 00:00:00\n",
            "start:2020-04-01 00:00:00\n",
            "[*********************100%***********************]  1 of 1 completed\n",
            "Period:90\n",
            "end:2020-06-30 00:00:00\n",
            "start:2020-04-01 00:00:00\n",
            "[*********************100%***********************]  1 of 1 completed\n",
            "Period:90\n",
            "end:2020-06-30 00:00:00\n",
            "start:2020-04-01 00:00:00\n",
            "[*********************100%***********************]  1 of 1 completed\n",
            "Period:90\n",
            "end:2020-06-30 00:00:00\n",
            "start:2020-04-01 00:00:00\n",
            "[*********************100%***********************]  1 of 1 completed\n",
            "Period:90\n",
            "end:2020-06-30 00:00:00\n",
            "start:2020-04-01 00:00:00\n"
          ],
          "name": "stdout"
        }
      ]
    },
    {
      "cell_type": "code",
      "metadata": {
        "id": "UHW0PB1PIM93",
        "colab_type": "code",
        "colab": {
          "base_uri": "https://localhost:8080/",
          "height": 766
        },
        "outputId": "2c6b9018-481b-4c40-8b76-bee7f9b29d17"
      },
      "source": [
        "d = {'sector_etfs': sector_etfs, 'three_mth_returns': three_mth_returns, 'three_mth_stddevs':three_mth_stddevs}\n",
        "df = pd.DataFrame(data=d)\n",
        "df"
      ],
      "execution_count": 72,
      "outputs": [
        {
          "output_type": "execute_result",
          "data": {
            "text/html": [
              "<div>\n",
              "<style scoped>\n",
              "    .dataframe tbody tr th:only-of-type {\n",
              "        vertical-align: middle;\n",
              "    }\n",
              "\n",
              "    .dataframe tbody tr th {\n",
              "        vertical-align: top;\n",
              "    }\n",
              "\n",
              "    .dataframe thead th {\n",
              "        text-align: right;\n",
              "    }\n",
              "</style>\n",
              "<table border=\"1\" class=\"dataframe\">\n",
              "  <thead>\n",
              "    <tr style=\"text-align: right;\">\n",
              "      <th></th>\n",
              "      <th>sector_etfs</th>\n",
              "      <th>three_mth_returns</th>\n",
              "      <th>three_mth_stddevs</th>\n",
              "    </tr>\n",
              "  </thead>\n",
              "  <tbody>\n",
              "    <tr>\n",
              "      <th>0</th>\n",
              "      <td>IGV</td>\n",
              "      <td>0.139683</td>\n",
              "      <td>23.194377</td>\n",
              "    </tr>\n",
              "    <tr>\n",
              "      <th>1</th>\n",
              "      <td>IYJ</td>\n",
              "      <td>0.092035</td>\n",
              "      <td>10.720990</td>\n",
              "    </tr>\n",
              "    <tr>\n",
              "      <th>2</th>\n",
              "      <td>FDN</td>\n",
              "      <td>0.145332</td>\n",
              "      <td>14.727207</td>\n",
              "    </tr>\n",
              "    <tr>\n",
              "      <th>3</th>\n",
              "      <td>SMH</td>\n",
              "      <td>0.124165</td>\n",
              "      <td>10.811516</td>\n",
              "    </tr>\n",
              "    <tr>\n",
              "      <th>4</th>\n",
              "      <td>PBS</td>\n",
              "      <td>0.145428</td>\n",
              "      <td>3.046055</td>\n",
              "    </tr>\n",
              "    <tr>\n",
              "      <th>5</th>\n",
              "      <td>KBE</td>\n",
              "      <td>0.084526</td>\n",
              "      <td>2.947731</td>\n",
              "    </tr>\n",
              "    <tr>\n",
              "      <th>6</th>\n",
              "      <td>IYW</td>\n",
              "      <td>0.128053</td>\n",
              "      <td>19.749924</td>\n",
              "    </tr>\n",
              "    <tr>\n",
              "      <th>7</th>\n",
              "      <td>KIE</td>\n",
              "      <td>0.054610</td>\n",
              "      <td>1.700605</td>\n",
              "    </tr>\n",
              "    <tr>\n",
              "      <th>8</th>\n",
              "      <td>ITA</td>\n",
              "      <td>0.069002</td>\n",
              "      <td>13.110297</td>\n",
              "    </tr>\n",
              "    <tr>\n",
              "      <th>9</th>\n",
              "      <td>IHI</td>\n",
              "      <td>0.080978</td>\n",
              "      <td>11.831293</td>\n",
              "    </tr>\n",
              "    <tr>\n",
              "      <th>10</th>\n",
              "      <td>ITB</td>\n",
              "      <td>0.220341</td>\n",
              "      <td>5.887190</td>\n",
              "    </tr>\n",
              "    <tr>\n",
              "      <th>11</th>\n",
              "      <td>IYT</td>\n",
              "      <td>0.078685</td>\n",
              "      <td>11.275265</td>\n",
              "    </tr>\n",
              "    <tr>\n",
              "      <th>12</th>\n",
              "      <td>XLB</td>\n",
              "      <td>0.103387</td>\n",
              "      <td>3.931022</td>\n",
              "    </tr>\n",
              "    <tr>\n",
              "      <th>13</th>\n",
              "      <td>IYZ</td>\n",
              "      <td>0.048331</td>\n",
              "      <td>1.092903</td>\n",
              "    </tr>\n",
              "    <tr>\n",
              "      <th>14</th>\n",
              "      <td>KCE</td>\n",
              "      <td>0.096540</td>\n",
              "      <td>4.038739</td>\n",
              "    </tr>\n",
              "    <tr>\n",
              "      <th>15</th>\n",
              "      <td>XLP</td>\n",
              "      <td>0.031684</td>\n",
              "      <td>1.370267</td>\n",
              "    </tr>\n",
              "    <tr>\n",
              "      <th>16</th>\n",
              "      <td>VNQ</td>\n",
              "      <td>0.067780</td>\n",
              "      <td>4.879719</td>\n",
              "    </tr>\n",
              "    <tr>\n",
              "      <th>17</th>\n",
              "      <td>IHE</td>\n",
              "      <td>0.062265</td>\n",
              "      <td>6.241401</td>\n",
              "    </tr>\n",
              "    <tr>\n",
              "      <th>18</th>\n",
              "      <td>PBJ</td>\n",
              "      <td>0.048966</td>\n",
              "      <td>0.970846</td>\n",
              "    </tr>\n",
              "    <tr>\n",
              "      <th>19</th>\n",
              "      <td>IBB</td>\n",
              "      <td>0.105662</td>\n",
              "      <td>8.412603</td>\n",
              "    </tr>\n",
              "    <tr>\n",
              "      <th>20</th>\n",
              "      <td>IEZ</td>\n",
              "      <td>0.184717</td>\n",
              "      <td>1.274973</td>\n",
              "    </tr>\n",
              "    <tr>\n",
              "      <th>21</th>\n",
              "      <td>XLU</td>\n",
              "      <td>0.027842</td>\n",
              "      <td>2.307957</td>\n",
              "    </tr>\n",
              "    <tr>\n",
              "      <th>22</th>\n",
              "      <td>XOP</td>\n",
              "      <td>0.227019</td>\n",
              "      <td>7.781352</td>\n",
              "    </tr>\n",
              "    <tr>\n",
              "      <th>23</th>\n",
              "      <td>XRT</td>\n",
              "      <td>0.176597</td>\n",
              "      <td>4.479257</td>\n",
              "    </tr>\n",
              "    <tr>\n",
              "      <th>24</th>\n",
              "      <td>IHF</td>\n",
              "      <td>0.071682</td>\n",
              "      <td>10.717144</td>\n",
              "    </tr>\n",
              "  </tbody>\n",
              "</table>\n",
              "</div>"
            ],
            "text/plain": [
              "   sector_etfs  three_mth_returns  three_mth_stddevs\n",
              "0          IGV           0.139683          23.194377\n",
              "1          IYJ           0.092035          10.720990\n",
              "2          FDN           0.145332          14.727207\n",
              "3          SMH           0.124165          10.811516\n",
              "4          PBS           0.145428           3.046055\n",
              "5          KBE           0.084526           2.947731\n",
              "6          IYW           0.128053          19.749924\n",
              "7          KIE           0.054610           1.700605\n",
              "8          ITA           0.069002          13.110297\n",
              "9          IHI           0.080978          11.831293\n",
              "10         ITB           0.220341           5.887190\n",
              "11         IYT           0.078685          11.275265\n",
              "12         XLB           0.103387           3.931022\n",
              "13         IYZ           0.048331           1.092903\n",
              "14         KCE           0.096540           4.038739\n",
              "15         XLP           0.031684           1.370267\n",
              "16         VNQ           0.067780           4.879719\n",
              "17         IHE           0.062265           6.241401\n",
              "18         PBJ           0.048966           0.970846\n",
              "19         IBB           0.105662           8.412603\n",
              "20         IEZ           0.184717           1.274973\n",
              "21         XLU           0.027842           2.307957\n",
              "22         XOP           0.227019           7.781352\n",
              "23         XRT           0.176597           4.479257\n",
              "24         IHF           0.071682          10.717144"
            ]
          },
          "metadata": {
            "tags": []
          },
          "execution_count": 72
        }
      ]
    },
    {
      "cell_type": "code",
      "metadata": {
        "id": "nszxQxTfKaDQ",
        "colab_type": "code",
        "colab": {
          "base_uri": "https://localhost:8080/",
          "height": 637
        },
        "outputId": "689b7bec-72e2-41da-ebdd-162d2a2fc4fc"
      },
      "source": [
        "x = df['three_mth_stddevs']\n",
        "y = df['three_mth_returns']\n",
        "n = df['sector_etfs']\n",
        "\n",
        "fig, ax = plt.subplots(figsize=(20,10))\n",
        "ax.scatter(x, y)\n",
        "\n",
        "for i, txt in enumerate(n):\n",
        "    ax.annotate(txt, (x[i], y[i]))\n",
        "\n",
        "ax.set_ylabel('Monthly return over past 3 months')\n",
        "ax.set_xlabel('Risk')\n",
        "ax.set_title(\"Sector ETFS distribution of risk and variance\")\n"
      ],
      "execution_count": 141,
      "outputs": [
        {
          "output_type": "execute_result",
          "data": {
            "text/plain": [
              "Text(0.5, 1.0, 'Sector ETFS distribution of risk and variance')"
            ]
          },
          "metadata": {
            "tags": []
          },
          "execution_count": 141
        },
        {
          "output_type": "display_data",
          "data": {
            "image/png": "[encoded data removed]",
            "text/plain": [
              "<Figure size 1440x720 with 1 Axes>"
            ]
          },
          "metadata": {
            "tags": [],
            "needs_background": "light"
          }
        }
      ]
    },
    {
      "cell_type": "markdown",
      "metadata": {
        "id": "0kIHj9bf-Flx",
        "colab_type": "text"
      },
      "source": [
        "### IGV - iShares S&P Software Industry Index"
      ]
    },
    {
      "cell_type": "code",
      "metadata": {
        "id": "1MKUal1T8ptB",
        "colab_type": "code",
        "colab": {
          "base_uri": "https://localhost:8080/",
          "height": 33
        },
        "outputId": "fdd1f87d-253a-4e22-d2d7-c0a81d2c0c1d"
      },
      "source": [
        "IGV = Stock ('IGV', '2012-01-01', '2020-07-01')"
      ],
      "execution_count": 63,
      "outputs": [
        {
          "output_type": "stream",
          "text": [
            "\r[*********************100%***********************]  1 of 1 completed\n"
          ],
          "name": "stdout"
        }
      ]
    },
    {
      "cell_type": "code",
      "metadata": {
        "id": "om1fG-0sIf49",
        "colab_type": "code",
        "colab": {
          "base_uri": "https://localhost:8080/",
          "height": 82
        },
        "outputId": "d40fb612-c46b-4b47-a4ea-fbe484310ffe"
      },
      "source": [
        "IGV.get_monthly_std(3)"
      ],
      "execution_count": 64,
      "outputs": [
        {
          "output_type": "stream",
          "text": [
            "Period:90\n",
            "end:2020-06-30 00:00:00\n",
            "start:2020-04-01 00:00:00\n"
          ],
          "name": "stdout"
        },
        {
          "output_type": "execute_result",
          "data": {
            "text/plain": [
              "23.194376756102262"
            ]
          },
          "metadata": {
            "tags": []
          },
          "execution_count": 64
        }
      ]
    },
    {
      "cell_type": "code",
      "metadata": {
        "id": "HS4-VP5TGJJW",
        "colab_type": "code",
        "colab": {
          "base_uri": "https://localhost:8080/",
          "height": 82
        },
        "outputId": "15a2e4f1-fa03-407c-fa2b-f2a9c277ca49"
      },
      "source": [
        "three_mth_return = IGV.get_monthly_return(3)\n",
        "three_mth_return"
      ],
      "execution_count": 33,
      "outputs": [
        {
          "output_type": "stream",
          "text": [
            "Period:90\n",
            "end:2020-06-30 00:00:00\n",
            "start:2020-04-01 00:00:00\n"
          ],
          "name": "stdout"
        },
        {
          "output_type": "execute_result",
          "data": {
            "text/plain": [
              "0.1396834963547813"
            ]
          },
          "metadata": {
            "tags": []
          },
          "execution_count": 33
        }
      ]
    },
    {
      "cell_type": "code",
      "metadata": {
        "id": "8kwHu7yFGRu0",
        "colab_type": "code",
        "colab": {
          "base_uri": "https://localhost:8080/",
          "height": 33
        },
        "outputId": "a644805f-d87d-4f3e-ef92-db788d1ad95f"
      },
      "source": [
        "three_mth_return"
      ],
      "execution_count": 34,
      "outputs": [
        {
          "output_type": "execute_result",
          "data": {
            "text/plain": [
              "0.1396834963547813"
            ]
          },
          "metadata": {
            "tags": []
          },
          "execution_count": 34
        }
      ]
    },
    {
      "cell_type": "code",
      "metadata": {
        "id": "7LKso39s8wQH",
        "colab_type": "code",
        "colab": {
          "base_uri": "https://localhost:8080/",
          "height": 33
        },
        "outputId": "a67296b1-cdfd-461b-fc72-85906c562cbf"
      },
      "source": [
        "IGV.one_year_return"
      ],
      "execution_count": 6,
      "outputs": [
        {
          "output_type": "execute_result",
          "data": {
            "text/plain": [
              "0.28144437207835676"
            ]
          },
          "metadata": {
            "tags": []
          },
          "execution_count": 6
        }
      ]
    },
    {
      "cell_type": "code",
      "metadata": {
        "id": "SacOcOha8woW",
        "colab_type": "code",
        "colab": {
          "base_uri": "https://localhost:8080/",
          "height": 33
        },
        "outputId": "f4e00d68-ffb8-4701-8506-4e80063e7638"
      },
      "source": [
        "IGV.two_year_return"
      ],
      "execution_count": 7,
      "outputs": [
        {
          "output_type": "execute_result",
          "data": {
            "text/plain": [
              "0.2779998122303526"
            ]
          },
          "metadata": {
            "tags": []
          },
          "execution_count": 7
        }
      ]
    },
    {
      "cell_type": "code",
      "metadata": {
        "id": "_CcLyUpG8zt-",
        "colab_type": "code",
        "colab": {
          "base_uri": "https://localhost:8080/",
          "height": 33
        },
        "outputId": "6cbe8102-305e-4a2a-89d0-d14d320e347f"
      },
      "source": [
        "IGV.five_year_return"
      ],
      "execution_count": 9,
      "outputs": [
        {
          "output_type": "execute_result",
          "data": {
            "text/plain": [
              "0.3707831412745578"
            ]
          },
          "metadata": {
            "tags": []
          },
          "execution_count": 9
        }
      ]
    },
    {
      "cell_type": "markdown",
      "metadata": {
        "id": "a6BbWFs6Qm4u",
        "colab_type": "text"
      },
      "source": [
        "### Stocks Risk Return Analysis"
      ]
    },
    {
      "cell_type": "code",
      "metadata": {
        "id": "ip5cVnHTQP-r",
        "colab_type": "code",
        "colab": {}
      },
      "source": [
        "k = []\n",
        "for i in stocks:\n",
        "    j = i.replace('\\t','')\n",
        "    k.append(j)"
      ],
      "execution_count": 93,
      "outputs": []
    },
    {
      "cell_type": "code",
      "metadata": {
        "id": "A12rJzPFQWqt",
        "colab_type": "code",
        "colab": {}
      },
      "source": [
        "stocks =['AAPL',\n",
        " 'AC',\n",
        " 'AMD',\n",
        " 'AMZN',\n",
        " 'COST',\n",
        " 'DAL',\n",
        " 'DIA',\n",
        " 'FB',\n",
        " 'GOOGL',\n",
        " 'HD',\n",
        " 'INTC',\n",
        " 'INTU',\n",
        " 'IVR',\n",
        " 'L',\n",
        " 'LMT',\n",
        " 'MA',\n",
        " 'MELI',\n",
        " 'MRNA',\n",
        " 'MSFT',\n",
        " 'NFLX',\n",
        " 'NVDA',\n",
        " 'PYPL',\n",
        " 'QQQ',\n",
        " 'QTEC',\n",
        " 'RY',\n",
        " 'SHOP',\n",
        " 'SNE',\n",
        " 'SPCE',\n",
        " 'SPY',\n",
        " 'SQ',\n",
        " 'V',\n",
        " 'ZM']"
      ],
      "execution_count": 117,
      "outputs": []
    },
    {
      "cell_type": "code",
      "metadata": {
        "id": "2o9SLGTXQufQ",
        "colab_type": "code",
        "colab": {
          "base_uri": "https://localhost:8080/",
          "height": 1000
        },
        "outputId": "225d4041-640c-48f1-f6dd-3ddd5ec6c8fe"
      },
      "source": [
        "three_mth_returns = []\n",
        "for stock in stocks: \n",
        "  print(stock)\n",
        "  stock_yahoo = Stock(stock, '2020-01-01', '2020-07-01')\n",
        "  three_mth_returns.append(stock_yahoo.get_monthly_return(3))"
      ],
      "execution_count": 118,
      "outputs": [
        {
          "output_type": "stream",
          "text": [
            "AAPL\n",
            "[*********************100%***********************]  1 of 1 completed\n",
            "Period:90\n",
            "end:2020-06-30 00:00:00\n",
            "start:2020-04-01 00:00:00\n",
            "AC\n",
            "[*********************100%***********************]  1 of 1 completed\n",
            "Period:90\n",
            "end:2020-06-30 00:00:00\n",
            "start:2020-04-01 00:00:00\n",
            "AMD\n",
            "[*********************100%***********************]  1 of 1 completed\n",
            "Period:90\n",
            "end:2020-06-30 00:00:00\n",
            "start:2020-04-01 00:00:00\n",
            "AMZN\n",
            "[*********************100%***********************]  1 of 1 completed\n",
            "Period:90\n",
            "end:2020-06-30 00:00:00\n",
            "start:2020-04-01 00:00:00\n",
            "COST\n",
            "[*********************100%***********************]  1 of 1 completed\n",
            "Period:90\n",
            "end:2020-06-30 00:00:00\n",
            "start:2020-04-01 00:00:00\n",
            "DAL\n",
            "[*********************100%***********************]  1 of 1 completed\n",
            "Period:90\n",
            "end:2020-06-30 00:00:00\n",
            "start:2020-04-01 00:00:00\n",
            "DIA\n",
            "[*********************100%***********************]  1 of 1 completed\n",
            "Period:90\n",
            "end:2020-06-30 00:00:00\n",
            "start:2020-04-01 00:00:00\n",
            "FB\n",
            "[*********************100%***********************]  1 of 1 completed\n",
            "Period:90\n",
            "end:2020-06-30 00:00:00\n",
            "start:2020-04-01 00:00:00\n",
            "GOOGL\n",
            "[*********************100%***********************]  1 of 1 completed\n",
            "Period:90\n",
            "end:2020-06-30 00:00:00\n",
            "start:2020-04-01 00:00:00\n",
            "HD\n",
            "[*********************100%***********************]  1 of 1 completed\n",
            "Period:90\n",
            "end:2020-06-30 00:00:00\n",
            "start:2020-04-01 00:00:00\n",
            "INTC\n",
            "[*********************100%***********************]  1 of 1 completed\n",
            "Period:90\n",
            "end:2020-06-30 00:00:00\n",
            "start:2020-04-01 00:00:00\n",
            "INTU\n",
            "[*********************100%***********************]  1 of 1 completed\n",
            "Period:90\n",
            "end:2020-06-30 00:00:00\n",
            "start:2020-04-01 00:00:00\n",
            "IVR\n",
            "[*********************100%***********************]  1 of 1 completed\n",
            "Period:90\n",
            "end:2020-06-30 00:00:00\n",
            "start:2020-04-01 00:00:00\n",
            "L\n",
            "[*********************100%***********************]  1 of 1 completed\n",
            "Period:90\n",
            "end:2020-06-30 00:00:00\n",
            "start:2020-04-01 00:00:00\n",
            "LMT\n",
            "[*********************100%***********************]  1 of 1 completed\n",
            "Period:90\n",
            "end:2020-06-30 00:00:00\n",
            "start:2020-04-01 00:00:00\n",
            "MA\n",
            "[*********************100%***********************]  1 of 1 completed\n",
            "Period:90\n",
            "end:2020-06-30 00:00:00\n",
            "start:2020-04-01 00:00:00\n",
            "MELI\n",
            "[*********************100%***********************]  1 of 1 completed\n",
            "Period:90\n",
            "end:2020-06-30 00:00:00\n",
            "start:2020-04-01 00:00:00\n",
            "MRNA\n",
            "[*********************100%***********************]  1 of 1 completed\n",
            "Period:90\n",
            "end:2020-06-30 00:00:00\n",
            "start:2020-04-01 00:00:00\n",
            "MSFT\n",
            "[*********************100%***********************]  1 of 1 completed\n",
            "Period:90\n",
            "end:2020-06-30 00:00:00\n",
            "start:2020-04-01 00:00:00\n",
            "NFLX\n",
            "[*********************100%***********************]  1 of 1 completed\n",
            "Period:90\n",
            "end:2020-06-30 00:00:00\n",
            "start:2020-04-01 00:00:00\n",
            "NVDA\n",
            "[*********************100%***********************]  1 of 1 completed\n",
            "Period:90\n",
            "end:2020-06-30 00:00:00\n",
            "start:2020-04-01 00:00:00\n",
            "PYPL\n",
            "[*********************100%***********************]  1 of 1 completed\n",
            "Period:90\n",
            "end:2020-06-30 00:00:00\n",
            "start:2020-04-01 00:00:00\n",
            "QQQ\n",
            "[*********************100%***********************]  1 of 1 completed\n",
            "Period:90\n",
            "end:2020-06-30 00:00:00\n",
            "start:2020-04-01 00:00:00\n",
            "QTEC\n",
            "[*********************100%***********************]  1 of 1 completed\n",
            "Period:90\n",
            "end:2020-06-30 00:00:00\n",
            "start:2020-04-01 00:00:00\n",
            "RY\n",
            "[*********************100%***********************]  1 of 1 completed\n",
            "Period:90\n",
            "end:2020-06-30 00:00:00\n",
            "start:2020-04-01 00:00:00\n",
            "SHOP\n",
            "[*********************100%***********************]  1 of 1 completed\n",
            "Period:90\n",
            "end:2020-06-30 00:00:00\n",
            "start:2020-04-01 00:00:00\n",
            "SNE\n",
            "[*********************100%***********************]  1 of 1 completed\n",
            "Period:90\n",
            "end:2020-06-30 00:00:00\n",
            "start:2020-04-01 00:00:00\n",
            "SPCE\n",
            "[*********************100%***********************]  1 of 1 completed\n",
            "Period:90\n",
            "end:2020-06-30 00:00:00\n",
            "start:2020-04-01 00:00:00\n",
            "SPY\n",
            "[*********************100%***********************]  1 of 1 completed\n",
            "Period:90\n",
            "end:2020-06-30 00:00:00\n",
            "start:2020-04-01 00:00:00\n",
            "SQ\n",
            "[*********************100%***********************]  1 of 1 completed\n",
            "Period:90\n",
            "end:2020-06-30 00:00:00\n",
            "start:2020-04-01 00:00:00\n",
            "V\n",
            "[*********************100%***********************]  1 of 1 completed\n",
            "Period:90\n",
            "end:2020-06-30 00:00:00\n",
            "start:2020-04-01 00:00:00\n",
            "ZM\n",
            "[*********************100%***********************]  1 of 1 completed\n",
            "Period:90\n",
            "end:2020-06-30 00:00:00\n",
            "start:2020-04-01 00:00:00\n"
          ],
          "name": "stdout"
        }
      ]
    },
    {
      "cell_type": "code",
      "metadata": {
        "id": "MI10geXiSyVv",
        "colab_type": "code",
        "colab": {
          "base_uri": "https://localhost:8080/",
          "height": 1000
        },
        "outputId": "abf311b0-b0ed-4840-d0a8-ab6ee030827b"
      },
      "source": [
        "three_mth_stddevs = []\n",
        "for stock in stocks: \n",
        "  print(stock)\n",
        "  stock_yahoo = Stock(stock, '2020-01-01', '2020-07-01')\n",
        "  three_mth_stddevs.append(stock_yahoo.get_monthly_std(3))"
      ],
      "execution_count": 135,
      "outputs": [
        {
          "output_type": "stream",
          "text": [
            "AAPL\n",
            "[*********************100%***********************]  1 of 1 completed\n",
            "Period:90\n",
            "end:2020-06-30 00:00:00\n",
            "start:2020-04-01 00:00:00\n",
            "AC\n",
            "[*********************100%***********************]  1 of 1 completed\n",
            "Period:90\n",
            "end:2020-06-30 00:00:00\n",
            "start:2020-04-01 00:00:00\n",
            "AMD\n",
            "[*********************100%***********************]  1 of 1 completed\n",
            "Period:90\n",
            "end:2020-06-30 00:00:00\n",
            "start:2020-04-01 00:00:00\n",
            "AMZN\n",
            "[*********************100%***********************]  1 of 1 completed\n",
            "Period:90\n",
            "end:2020-06-30 00:00:00\n",
            "start:2020-04-01 00:00:00\n",
            "COST\n",
            "[*********************100%***********************]  1 of 1 completed\n",
            "Period:90\n",
            "end:2020-06-30 00:00:00\n",
            "start:2020-04-01 00:00:00\n",
            "DAL\n",
            "[*********************100%***********************]  1 of 1 completed\n",
            "Period:90\n",
            "end:2020-06-30 00:00:00\n",
            "start:2020-04-01 00:00:00\n",
            "DIA\n",
            "[*********************100%***********************]  1 of 1 completed\n",
            "Period:90\n",
            "end:2020-06-30 00:00:00\n",
            "start:2020-04-01 00:00:00\n",
            "FB\n",
            "[*********************100%***********************]  1 of 1 completed\n",
            "Period:90\n",
            "end:2020-06-30 00:00:00\n",
            "start:2020-04-01 00:00:00\n",
            "GOOGL\n",
            "[*********************100%***********************]  1 of 1 completed\n",
            "Period:90\n",
            "end:2020-06-30 00:00:00\n",
            "start:2020-04-01 00:00:00\n",
            "HD\n",
            "[*********************100%***********************]  1 of 1 completed\n",
            "Period:90\n",
            "end:2020-06-30 00:00:00\n",
            "start:2020-04-01 00:00:00\n",
            "INTC\n",
            "[*********************100%***********************]  1 of 1 completed\n",
            "Period:90\n",
            "end:2020-06-30 00:00:00\n",
            "start:2020-04-01 00:00:00\n",
            "INTU\n",
            "[*********************100%***********************]  1 of 1 completed\n",
            "Period:90\n",
            "end:2020-06-30 00:00:00\n",
            "start:2020-04-01 00:00:00\n",
            "IVR\n",
            "[*********************100%***********************]  1 of 1 completed\n",
            "Period:90\n",
            "end:2020-06-30 00:00:00\n",
            "start:2020-04-01 00:00:00\n",
            "L\n",
            "[*********************100%***********************]  1 of 1 completed\n",
            "Period:90\n",
            "end:2020-06-30 00:00:00\n",
            "start:2020-04-01 00:00:00\n",
            "LMT\n",
            "[*********************100%***********************]  1 of 1 completed\n",
            "Period:90\n",
            "end:2020-06-30 00:00:00\n",
            "start:2020-04-01 00:00:00\n",
            "MA\n",
            "[*********************100%***********************]  1 of 1 completed\n",
            "Period:90\n",
            "end:2020-06-30 00:00:00\n",
            "start:2020-04-01 00:00:00\n",
            "MELI\n",
            "[*********************100%***********************]  1 of 1 completed\n",
            "Period:90\n",
            "end:2020-06-30 00:00:00\n",
            "start:2020-04-01 00:00:00\n",
            "MRNA\n",
            "[*********************100%***********************]  1 of 1 completed\n",
            "Period:90\n",
            "end:2020-06-30 00:00:00\n",
            "start:2020-04-01 00:00:00\n",
            "MSFT\n",
            "[*********************100%***********************]  1 of 1 completed\n",
            "Period:90\n",
            "end:2020-06-30 00:00:00\n",
            "start:2020-04-01 00:00:00\n",
            "NFLX\n",
            "[*********************100%***********************]  1 of 1 completed\n",
            "Period:90\n",
            "end:2020-06-30 00:00:00\n",
            "start:2020-04-01 00:00:00\n",
            "NVDA\n",
            "[*********************100%***********************]  1 of 1 completed\n",
            "Period:90\n",
            "end:2020-06-30 00:00:00\n",
            "start:2020-04-01 00:00:00\n",
            "PYPL\n",
            "[*********************100%***********************]  1 of 1 completed\n",
            "Period:90\n",
            "end:2020-06-30 00:00:00\n",
            "start:2020-04-01 00:00:00\n",
            "QQQ\n",
            "[*********************100%***********************]  1 of 1 completed\n",
            "Period:90\n",
            "end:2020-06-30 00:00:00\n",
            "start:2020-04-01 00:00:00\n",
            "QTEC\n",
            "[*********************100%***********************]  1 of 1 completed\n",
            "Period:90\n",
            "end:2020-06-30 00:00:00\n",
            "start:2020-04-01 00:00:00\n",
            "RY\n",
            "[*********************100%***********************]  1 of 1 completed\n",
            "Period:90\n",
            "end:2020-06-30 00:00:00\n",
            "start:2020-04-01 00:00:00\n",
            "SHOP\n",
            "[*********************100%***********************]  1 of 1 completed\n",
            "Period:90\n",
            "end:2020-06-30 00:00:00\n",
            "start:2020-04-01 00:00:00\n",
            "SNE\n",
            "[*********************100%***********************]  1 of 1 completed\n",
            "Period:90\n",
            "end:2020-06-30 00:00:00\n",
            "start:2020-04-01 00:00:00\n",
            "SPCE\n",
            "[*********************100%***********************]  1 of 1 completed\n",
            "Period:90\n",
            "end:2020-06-30 00:00:00\n",
            "start:2020-04-01 00:00:00\n",
            "SPY\n",
            "[*********************100%***********************]  1 of 1 completed\n",
            "Period:90\n",
            "end:2020-06-30 00:00:00\n",
            "start:2020-04-01 00:00:00\n",
            "SQ\n",
            "[*********************100%***********************]  1 of 1 completed\n",
            "Period:90\n",
            "end:2020-06-30 00:00:00\n",
            "start:2020-04-01 00:00:00\n",
            "V\n",
            "[*********************100%***********************]  1 of 1 completed\n",
            "Period:90\n",
            "end:2020-06-30 00:00:00\n",
            "start:2020-04-01 00:00:00\n",
            "ZM\n",
            "[*********************100%***********************]  1 of 1 completed\n",
            "Period:90\n",
            "end:2020-06-30 00:00:00\n",
            "start:2020-04-01 00:00:00\n"
          ],
          "name": "stdout"
        }
      ]
    },
    {
      "cell_type": "code",
      "metadata": {
        "id": "IiFsUzL3Sr5y",
        "colab_type": "code",
        "colab": {
          "base_uri": "https://localhost:8080/",
          "height": 967
        },
        "outputId": "36cf96a2-47d7-4440-9213-678e96b84178"
      },
      "source": [
        "d = {'stocks': stocks, 'Monthly returns over past 3 months': three_mth_returns, 'three_mth_stddevs':three_mth_stddevs}\n",
        "stocks_df = pd.DataFrame(data=d)\n",
        "stocks_df"
      ],
      "execution_count": 136,
      "outputs": [
        {
          "output_type": "execute_result",
          "data": {
            "text/html": [
              "<div>\n",
              "<style scoped>\n",
              "    .dataframe tbody tr th:only-of-type {\n",
              "        vertical-align: middle;\n",
              "    }\n",
              "\n",
              "    .dataframe tbody tr th {\n",
              "        vertical-align: top;\n",
              "    }\n",
              "\n",
              "    .dataframe thead th {\n",
              "        text-align: right;\n",
              "    }\n",
              "</style>\n",
              "<table border=\"1\" class=\"dataframe\">\n",
              "  <thead>\n",
              "    <tr style=\"text-align: right;\">\n",
              "      <th></th>\n",
              "      <th>stocks</th>\n",
              "      <th>Monthly returns over past 3 months</th>\n",
              "      <th>three_mth_stddevs</th>\n",
              "    </tr>\n",
              "  </thead>\n",
              "  <tbody>\n",
              "    <tr>\n",
              "      <th>0</th>\n",
              "      <td>AAPL</td>\n",
              "      <td>0.171419</td>\n",
              "      <td>33.301355</td>\n",
              "    </tr>\n",
              "    <tr>\n",
              "      <th>1</th>\n",
              "      <td>AC</td>\n",
              "      <td>0.133817</td>\n",
              "      <td>3.087816</td>\n",
              "    </tr>\n",
              "    <tr>\n",
              "      <th>2</th>\n",
              "      <td>AMD</td>\n",
              "      <td>0.068331</td>\n",
              "      <td>3.079535</td>\n",
              "    </tr>\n",
              "    <tr>\n",
              "      <th>3</th>\n",
              "      <td>AMZN</td>\n",
              "      <td>0.148717</td>\n",
              "      <td>206.570801</td>\n",
              "    </tr>\n",
              "    <tr>\n",
              "      <th>4</th>\n",
              "      <td>COST</td>\n",
              "      <td>0.019097</td>\n",
              "      <td>5.950383</td>\n",
              "    </tr>\n",
              "    <tr>\n",
              "      <th>5</th>\n",
              "      <td>DAL</td>\n",
              "      <td>0.058372</td>\n",
              "      <td>3.959533</td>\n",
              "    </tr>\n",
              "    <tr>\n",
              "      <th>6</th>\n",
              "      <td>DIA</td>\n",
              "      <td>0.077196</td>\n",
              "      <td>14.296369</td>\n",
              "    </tr>\n",
              "    <tr>\n",
              "      <th>7</th>\n",
              "      <td>FB</td>\n",
              "      <td>0.140915</td>\n",
              "      <td>25.470798</td>\n",
              "    </tr>\n",
              "    <tr>\n",
              "      <th>8</th>\n",
              "      <td>GOOGL</td>\n",
              "      <td>0.095560</td>\n",
              "      <td>97.942449</td>\n",
              "    </tr>\n",
              "    <tr>\n",
              "      <th>9</th>\n",
              "      <td>HD</td>\n",
              "      <td>0.134132</td>\n",
              "      <td>22.106149</td>\n",
              "    </tr>\n",
              "    <tr>\n",
              "      <th>10</th>\n",
              "      <td>INTC</td>\n",
              "      <td>0.051079</td>\n",
              "      <td>2.315587</td>\n",
              "    </tr>\n",
              "    <tr>\n",
              "      <th>11</th>\n",
              "      <td>INTU</td>\n",
              "      <td>0.119307</td>\n",
              "      <td>18.958367</td>\n",
              "    </tr>\n",
              "    <tr>\n",
              "      <th>12</th>\n",
              "      <td>IVR</td>\n",
              "      <td>0.110320</td>\n",
              "      <td>0.934191</td>\n",
              "    </tr>\n",
              "    <tr>\n",
              "      <th>13</th>\n",
              "      <td>L</td>\n",
              "      <td>0.016958</td>\n",
              "      <td>2.503877</td>\n",
              "    </tr>\n",
              "    <tr>\n",
              "      <th>14</th>\n",
              "      <td>LMT</td>\n",
              "      <td>0.025996</td>\n",
              "      <td>15.229065</td>\n",
              "    </tr>\n",
              "    <tr>\n",
              "      <th>15</th>\n",
              "      <td>MA</td>\n",
              "      <td>0.097823</td>\n",
              "      <td>21.248921</td>\n",
              "    </tr>\n",
              "    <tr>\n",
              "      <th>16</th>\n",
              "      <td>MELI</td>\n",
              "      <td>0.401209</td>\n",
              "      <td>161.480459</td>\n",
              "    </tr>\n",
              "    <tr>\n",
              "      <th>17</th>\n",
              "      <td>MRNA</td>\n",
              "      <td>0.388046</td>\n",
              "      <td>12.038636</td>\n",
              "    </tr>\n",
              "    <tr>\n",
              "      <th>18</th>\n",
              "      <td>MSFT</td>\n",
              "      <td>0.112638</td>\n",
              "      <td>11.587189</td>\n",
              "    </tr>\n",
              "    <tr>\n",
              "      <th>19</th>\n",
              "      <td>NFLX</td>\n",
              "      <td>0.083278</td>\n",
              "      <td>24.878364</td>\n",
              "    </tr>\n",
              "    <tr>\n",
              "      <th>20</th>\n",
              "      <td>NVDA</td>\n",
              "      <td>0.187655</td>\n",
              "      <td>40.775021</td>\n",
              "    </tr>\n",
              "    <tr>\n",
              "      <th>21</th>\n",
              "      <td>PYPL</td>\n",
              "      <td>0.302218</td>\n",
              "      <td>24.044520</td>\n",
              "    </tr>\n",
              "    <tr>\n",
              "      <th>22</th>\n",
              "      <td>QQQ</td>\n",
              "      <td>0.119375</td>\n",
              "      <td>16.764655</td>\n",
              "    </tr>\n",
              "    <tr>\n",
              "      <th>23</th>\n",
              "      <td>QTEC</td>\n",
              "      <td>0.119469</td>\n",
              "      <td>7.632776</td>\n",
              "    </tr>\n",
              "    <tr>\n",
              "      <th>24</th>\n",
              "      <td>RY</td>\n",
              "      <td>0.052991</td>\n",
              "      <td>4.149390</td>\n",
              "    </tr>\n",
              "    <tr>\n",
              "      <th>25</th>\n",
              "      <td>SHOP</td>\n",
              "      <td>0.489190</td>\n",
              "      <td>153.385743</td>\n",
              "    </tr>\n",
              "    <tr>\n",
              "      <th>26</th>\n",
              "      <td>SNE</td>\n",
              "      <td>0.072002</td>\n",
              "      <td>3.636458</td>\n",
              "    </tr>\n",
              "    <tr>\n",
              "      <th>27</th>\n",
              "      <td>SPCE</td>\n",
              "      <td>0.076190</td>\n",
              "      <td>1.665018</td>\n",
              "    </tr>\n",
              "    <tr>\n",
              "      <th>28</th>\n",
              "      <td>SPY</td>\n",
              "      <td>0.084244</td>\n",
              "      <td>17.189635</td>\n",
              "    </tr>\n",
              "    <tr>\n",
              "      <th>29</th>\n",
              "      <td>SQ</td>\n",
              "      <td>0.413943</td>\n",
              "      <td>16.818343</td>\n",
              "    </tr>\n",
              "    <tr>\n",
              "      <th>30</th>\n",
              "      <td>V</td>\n",
              "      <td>0.087214</td>\n",
              "      <td>12.879518</td>\n",
              "    </tr>\n",
              "    <tr>\n",
              "      <th>31</th>\n",
              "      <td>ZM</td>\n",
              "      <td>0.283552</td>\n",
              "      <td>42.707216</td>\n",
              "    </tr>\n",
              "  </tbody>\n",
              "</table>\n",
              "</div>"
            ],
            "text/plain": [
              "   stocks  Monthly returns over past 3 months  three_mth_stddevs\n",
              "0    AAPL                            0.171419          33.301355\n",
              "1      AC                            0.133817           3.087816\n",
              "2     AMD                            0.068331           3.079535\n",
              "3    AMZN                            0.148717         206.570801\n",
              "4    COST                            0.019097           5.950383\n",
              "5     DAL                            0.058372           3.959533\n",
              "6     DIA                            0.077196          14.296369\n",
              "7      FB                            0.140915          25.470798\n",
              "8   GOOGL                            0.095560          97.942449\n",
              "9      HD                            0.134132          22.106149\n",
              "10   INTC                            0.051079           2.315587\n",
              "11   INTU                            0.119307          18.958367\n",
              "12    IVR                            0.110320           0.934191\n",
              "13      L                            0.016958           2.503877\n",
              "14    LMT                            0.025996          15.229065\n",
              "15     MA                            0.097823          21.248921\n",
              "16   MELI                            0.401209         161.480459\n",
              "17   MRNA                            0.388046          12.038636\n",
              "18   MSFT                            0.112638          11.587189\n",
              "19   NFLX                            0.083278          24.878364\n",
              "20   NVDA                            0.187655          40.775021\n",
              "21   PYPL                            0.302218          24.044520\n",
              "22    QQQ                            0.119375          16.764655\n",
              "23   QTEC                            0.119469           7.632776\n",
              "24     RY                            0.052991           4.149390\n",
              "25   SHOP                            0.489190         153.385743\n",
              "26    SNE                            0.072002           3.636458\n",
              "27   SPCE                            0.076190           1.665018\n",
              "28    SPY                            0.084244          17.189635\n",
              "29     SQ                            0.413943          16.818343\n",
              "30      V                            0.087214          12.879518\n",
              "31     ZM                            0.283552          42.707216"
            ]
          },
          "metadata": {
            "tags": []
          },
          "execution_count": 136
        }
      ]
    },
    {
      "cell_type": "code",
      "metadata": {
        "id": "_e0ZblvVUnoc",
        "colab_type": "code",
        "colab": {
          "base_uri": "https://localhost:8080/",
          "height": 33
        },
        "outputId": "bc4bd3e3-0e98-41dc-af64-e6ec640ab235"
      },
      "source": [
        "(AMZN.timeseries.loc['2020-06-30']-AMZN.timeseries.loc['2020-04-01'])/AMZN.timeseries.loc['2020-04-01']"
      ],
      "execution_count": 133,
      "outputs": [
        {
          "output_type": "execute_result",
          "data": {
            "text/plain": [
              "0.4461498867600579"
            ]
          },
          "metadata": {
            "tags": []
          },
          "execution_count": 133
        }
      ]
    },
    {
      "cell_type": "code",
      "metadata": {
        "id": "u6s5FnFzUtkd",
        "colab_type": "code",
        "colab": {
          "base_uri": "https://localhost:8080/",
          "height": 33
        },
        "outputId": "ee0b807d-1881-4caf-a855-8a24a1f4c7cf"
      },
      "source": [
        "AMZN.timeseries.loc['2020-04-01']"
      ],
      "execution_count": 132,
      "outputs": [
        {
          "output_type": "execute_result",
          "data": {
            "text/plain": [
              "1907.699951171875"
            ]
          },
          "metadata": {
            "tags": []
          },
          "execution_count": 132
        }
      ]
    },
    {
      "cell_type": "code",
      "metadata": {
        "id": "h6bhTS7uTT5S",
        "colab_type": "code",
        "colab": {
          "base_uri": "https://localhost:8080/",
          "height": 637
        },
        "outputId": "4844dcef-e51f-4fa0-ea04-36c48e284406"
      },
      "source": [
        "x = stocks_df['three_mth_stddevs']\n",
        "y = stocks_df['Monthly returns over past 3 months']\n",
        "n = stocks_df['stocks']\n",
        "\n",
        "fig, ax = plt.subplots(figsize=(20,10))\n",
        "ax.scatter(x, y)\n",
        "\n",
        "for i, txt in enumerate(n):\n",
        "    ax.annotate(txt, (x[i], y[i]))\n",
        "\n",
        "ax.set_ylabel('Return')\n",
        "ax.set_xlabel('Risk')\n",
        "ax.set_title(\"Distribution of stocks by risk and variance\")\n"
      ],
      "execution_count": 139,
      "outputs": [
        {
          "output_type": "execute_result",
          "data": {
            "text/plain": [
              "Text(0.5, 1.0, 'Distribution of stocks by risk and variance')"
            ]
          },
          "metadata": {
            "tags": []
          },
          "execution_count": 139
        },
        {
          "output_type": "display_data",
          "data": {
            "image/png": "[encoded data removed]",
            "text/plain": [
              "<Figure size 1440x720 with 1 Axes>"
            ]
          },
          "metadata": {
            "tags": [],
            "needs_background": "light"
          }
        }
      ]
    },
    {
      "cell_type": "markdown",
      "metadata": {
        "id": "jpatkbK397sz",
        "colab_type": "text"
      },
      "source": [
        "### Market Vectors Semiconductor ETF"
      ]
    },
    {
      "cell_type": "code",
      "metadata": {
        "id": "8jYEyZgET-ad",
        "colab_type": "code",
        "colab": {
          "base_uri": "https://localhost:8080/",
          "height": 33
        },
        "outputId": "55f60ef4-1f4e-4e18-ae3e-6c5c24ca912d"
      },
      "source": [
        "AMZN = Stock ('AMZN', '2012-01-01', '2020-07-01')"
      ],
      "execution_count": 126,
      "outputs": [
        {
          "output_type": "stream",
          "text": [
            "\r[*********************100%***********************]  1 of 1 completed\n"
          ],
          "name": "stdout"
        }
      ]
    },
    {
      "cell_type": "code",
      "metadata": {
        "id": "mmv6eOk2UAyx",
        "colab_type": "code",
        "colab": {
          "base_uri": "https://localhost:8080/",
          "height": 82
        },
        "outputId": "87488105-6a66-4154-8236-337ad6acc915"
      },
      "source": [
        "AMZN.get_monthly_return(3)"
      ],
      "execution_count": 127,
      "outputs": [
        {
          "output_type": "stream",
          "text": [
            "Period:90\n",
            "end:2020-06-30 00:00:00\n",
            "start:2020-04-01 00:00:00\n"
          ],
          "name": "stdout"
        },
        {
          "output_type": "execute_result",
          "data": {
            "text/plain": [
              "0.1487166289200193"
            ]
          },
          "metadata": {
            "tags": []
          },
          "execution_count": 127
        }
      ]
    },
    {
      "cell_type": "code",
      "metadata": {
        "id": "x1XKnz6C81Ul",
        "colab_type": "code",
        "colab": {
          "base_uri": "https://localhost:8080/",
          "height": 180
        },
        "outputId": "c2a7d02e-46c3-4ea5-a2b4-b1bb99bb3692"
      },
      "source": [
        "SMH = Stock ('SMH', '2012-01-01', '2020-07-01')"
      ],
      "execution_count": 11,
      "outputs": [
        {
          "output_type": "stream",
          "text": [
            "\r[*********************100%***********************]  1 of 1 completed\n",
            "Period:365\n",
            "end:2020-06-30 00:00:00\n",
            "start:2019-07-01 00:00:00\n",
            "Period:730\n",
            "end:2020-06-30 00:00:00\n",
            "start:2018-06-29 00:00:00\n",
            "Period:1825\n",
            "end:2020-06-30 00:00:00\n",
            "start:2015-07-02 00:00:00\n"
          ],
          "name": "stdout"
        }
      ]
    },
    {
      "cell_type": "code",
      "metadata": {
        "id": "LlR1Kwm19eIp",
        "colab_type": "code",
        "colab": {
          "base_uri": "https://localhost:8080/",
          "height": 33
        },
        "outputId": "e3863e2d-482e-4f14-fc06-aecaddee55f1"
      },
      "source": [
        "SMH.one_year_return, SMH.five_year_return"
      ],
      "execution_count": 13,
      "outputs": [
        {
          "output_type": "execute_result",
          "data": {
            "text/plain": [
              "(0.34875100906469575, 0.354426727186923)"
            ]
          },
          "metadata": {
            "tags": []
          },
          "execution_count": 13
        }
      ]
    },
    {
      "cell_type": "markdown",
      "metadata": {
        "id": "_dTDc0DK94FH",
        "colab_type": "text"
      },
      "source": [
        "### iShares DJ U.S. Technology sector"
      ]
    },
    {
      "cell_type": "code",
      "metadata": {
        "id": "07P9p20Q9fsf",
        "colab_type": "code",
        "colab": {
          "base_uri": "https://localhost:8080/",
          "height": 196
        },
        "outputId": "b2d8cc31-35cc-4f73-8bc3-04aeb827751d"
      },
      "source": [
        "IYW = Stock ('IYW', '2012-01-01', '2020-07-01')\n",
        "IYW.one_year_return, IYW.five_year_return"
      ],
      "execution_count": 14,
      "outputs": [
        {
          "output_type": "stream",
          "text": [
            "\r[*********************100%***********************]  1 of 1 completed\n",
            "Period:365\n",
            "end:2020-06-30 00:00:00\n",
            "start:2019-07-01 00:00:00\n",
            "Period:730\n",
            "end:2020-06-30 00:00:00\n",
            "start:2018-06-29 00:00:00\n",
            "Period:1825\n",
            "end:2020-06-30 00:00:00\n",
            "start:2015-07-02 00:00:00\n"
          ],
          "name": "stdout"
        },
        {
          "output_type": "execute_result",
          "data": {
            "text/plain": [
              "(0.3425556268870849, 0.3126353454634857)"
            ]
          },
          "metadata": {
            "tags": []
          },
          "execution_count": 14
        }
      ]
    },
    {
      "cell_type": "code",
      "metadata": {
        "id": "fjHwoGeB91Jm",
        "colab_type": "code",
        "colab": {}
      },
      "source": [
        ""
      ],
      "execution_count": null,
      "outputs": []
    }
  ]
}